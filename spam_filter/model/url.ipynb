{
 "cells": [
  {
   "cell_type": "markdown",
   "id": "41489c71-607a-4412-98b5-364550d3978e",
   "metadata": {
    "tags": []
   },
   "source": [
    "# URL Classification\n",
    "\n",
    "> https://machinelearningmastery.com/naive-bayes-classifier-scratch-python/\n",
    "\n",
    "> https://towardsdatascience.com/naive-bayes-classifier-from-scratch-with-python-942708211470\n",
    "\n",
    "> https://scikit-learn.org/stable/modules/naive_bayes.html\n",
    "\n",
    "> https://github.com/japborst/dart_stemmer/blob/master/lib/PorterStemmer.dart\n",
    "\n",
    "> https://tartarus.org/martin/PorterStemmer/\n",
    "\n",
    "> https://www.kaggle.com/datasets/taruntiwarihp/phishing-site-urls\n",
    "\n",
    "> https://www.kaggle.com/datasets/akashkr/phishing-website-dataset\n",
    "\n",
    "> https://www.kaggle.com/datasets/sandunabeysooriya/phishing-detection-dataset\n",
    "\n",
    "> https://www.youtube.com/watch?v=O2L2Uv9pdDA"
   ]
  },
  {
   "cell_type": "code",
   "execution_count": 1,
   "id": "e48a72be-2083-4b03-8514-eae69ca3bba4",
   "metadata": {},
   "outputs": [],
   "source": [
    "import numpy as np\n",
    "import pandas as pd\n",
    "\n",
    "from sklearn.model_selection import train_test_split\n",
    "from sklearn.naive_bayes import GaussianNB\n",
    "# from sklearn.naive_bayes import MultinomialNB\n",
    "\n",
    "import matplotlib.pyplot as plt\n",
    "%matplotlib inline"
   ]
  },
  {
   "cell_type": "markdown",
   "id": "90f8ba19-c367-4c4f-8023-9e8b127aeed6",
   "metadata": {
    "tags": []
   },
   "source": [
    "## Data Import and Cleaning\n",
    "\n",
    "__Properties of interest:__\n",
    "+ Length\n",
    "+ Number of dots\n",
    "+ Number of sub-paths `/`\n",
    "+ Usage of shortening services\n",
    "+ Usage of symbols, such as `@`, `?`, `//`\n",
    "+ Using `http` or `https`\n",
    "+ Domain (`.gov`, `.com`, etc.)\n",
    "+ Using IP address\n",
    "+ Readability?"
   ]
  },
  {
   "cell_type": "code",
   "execution_count": 10,
   "id": "f6694680-03c4-4c68-87f8-6fcba4689d7e",
   "metadata": {},
   "outputs": [
    {
     "name": "stdout",
     "output_type": "stream",
     "text": [
      "                                                      URL  Label\n",
      "0       nobell.it/70ffb52d079109dca5664cce6f317373782/...      1\n",
      "1       www.dghjdgf.com/paypal.co.uk/cycgi-bin/webscrc...      1\n",
      "2       serviciosbys.com/paypal.cgi.bin.get-into.herf....      1\n",
      "3       mail.printakid.com/www.online.americanexpress....      1\n",
      "4       thewhiskeydregs.com/wp-content/themes/widescre...      1\n",
      "...                                                   ...    ...\n",
      "549245                                    23.227.196.215/      1\n",
      "549246                                 apple-checker.org/      1\n",
      "549247                                  apple-iclods.org/      1\n",
      "549248                                 apple-uptoday.org/      1\n",
      "549249                                  apple-search.info      1\n",
      "\n",
      "[549250 rows x 2 columns]\n"
     ]
    }
   ],
   "source": [
    "data = pd.read_csv(\"./data/phishing_site_urls.csv\", encoding=\"utf-8\")\n",
    "data[\"Label\"].replace(to_replace=\"bad\", value=1, inplace=True)\n",
    "data[\"Label\"].replace(to_replace=\"good\", value=0, inplace=True)\n",
    "\n",
    "print(data)"
   ]
  },
  {
   "cell_type": "code",
   "execution_count": 3,
   "id": "dc5929bf-8599-4b45-aa0c-d429d87db5f8",
   "metadata": {},
   "outputs": [
    {
     "data": {
      "image/png": "[encoded data removed]",
      "text/plain": [
       "<Figure size 640x480 with 1 Axes>"
      ]
     },
     "metadata": {},
     "output_type": "display_data"
    }
   ],
   "source": [
    "sizes = [data[data[\"Label\"] == 0].shape[0]\n",
    "        ,data[data[\"Label\"] == 1].shape[0]\n",
    "        ]\n",
    "\n",
    "fig1, ax1 = plt.subplots()\n",
    "ax1.pie(sizes, labels=[\"good\", \"bad\"], autopct='%1.1f%%')\n",
    "plt.show()"
   ]
  },
  {
   "cell_type": "code",
   "execution_count": 15,
   "id": "89c52b8e-7271-4e9c-9e00-2355c127a30b",
   "metadata": {},
   "outputs": [
    {
     "name": "stdout",
     "output_type": "stream",
     "text": [
      "(None, '23.227.196.215', '/')\n",
      "772050312/www1.royalbank.com/cgi-bin/rbaccess/rbunxcgi/\n"
     ]
    },
    {
     "ename": "TypeError",
     "evalue": "cannot unpack non-iterable NoneType object",
     "output_type": "error",
     "traceback": [
      "\u001b[1;31m---------------------------------------------------------------------------\u001b[0m",
      "\u001b[1;31mTypeError\u001b[0m                                 Traceback (most recent call last)",
      "Cell \u001b[1;32mIn[15], line 64\u001b[0m\n\u001b[0;32m     59\u001b[0m     \u001b[38;5;28;01mreturn\u001b[39;00m [\u001b[38;5;28mlen\u001b[39m(url), head] \u001b[38;5;241m+\u001b[39m addr \u001b[38;5;241m+\u001b[39m path\n\u001b[0;32m     62\u001b[0m \u001b[38;5;28mprint\u001b[39m(splitURL(data[\u001b[38;5;124m\"\u001b[39m\u001b[38;5;124mURL\u001b[39m\u001b[38;5;124m\"\u001b[39m]\u001b[38;5;241m.\u001b[39miloc[\u001b[38;5;241m549245\u001b[39m]))\n\u001b[1;32m---> 64\u001b[0m data[\u001b[38;5;124m\"\u001b[39m\u001b[38;5;124mVector\u001b[39m\u001b[38;5;124m\"\u001b[39m] \u001b[38;5;241m=\u001b[39m \u001b[43mdata\u001b[49m\u001b[43m[\u001b[49m\u001b[38;5;124;43m\"\u001b[39;49m\u001b[38;5;124;43mURL\u001b[39;49m\u001b[38;5;124;43m\"\u001b[39;49m\u001b[43m]\u001b[49m\u001b[38;5;241;43m.\u001b[39;49m\u001b[43mmap\u001b[49m\u001b[43m(\u001b[49m\u001b[43mprocessURL\u001b[49m\u001b[43m)\u001b[49m\n\u001b[0;32m     65\u001b[0m \u001b[38;5;28mprint\u001b[39m(data)\n",
      "File \u001b[1;32m~\\miniconda3\\lib\\site-packages\\pandas\\core\\series.py:4237\u001b[0m, in \u001b[0;36mSeries.map\u001b[1;34m(self, arg, na_action)\u001b[0m\n\u001b[0;32m   4162\u001b[0m \u001b[38;5;28;01mdef\u001b[39;00m \u001b[38;5;21mmap\u001b[39m(\u001b[38;5;28mself\u001b[39m, arg, na_action\u001b[38;5;241m=\u001b[39m\u001b[38;5;28;01mNone\u001b[39;00m) \u001b[38;5;241m-\u001b[39m\u001b[38;5;241m>\u001b[39m Series:\n\u001b[0;32m   4163\u001b[0m     \u001b[38;5;124;03m\"\"\"\u001b[39;00m\n\u001b[0;32m   4164\u001b[0m \u001b[38;5;124;03m    Map values of Series according to an input mapping or function.\u001b[39;00m\n\u001b[0;32m   4165\u001b[0m \n\u001b[1;32m   (...)\u001b[0m\n\u001b[0;32m   4235\u001b[0m \u001b[38;5;124;03m    dtype: object\u001b[39;00m\n\u001b[0;32m   4236\u001b[0m \u001b[38;5;124;03m    \"\"\"\u001b[39;00m\n\u001b[1;32m-> 4237\u001b[0m     new_values \u001b[38;5;241m=\u001b[39m \u001b[38;5;28;43mself\u001b[39;49m\u001b[38;5;241;43m.\u001b[39;49m\u001b[43m_map_values\u001b[49m\u001b[43m(\u001b[49m\u001b[43marg\u001b[49m\u001b[43m,\u001b[49m\u001b[43m \u001b[49m\u001b[43mna_action\u001b[49m\u001b[38;5;241;43m=\u001b[39;49m\u001b[43mna_action\u001b[49m\u001b[43m)\u001b[49m\n\u001b[0;32m   4238\u001b[0m     \u001b[38;5;28;01mreturn\u001b[39;00m \u001b[38;5;28mself\u001b[39m\u001b[38;5;241m.\u001b[39m_constructor(new_values, index\u001b[38;5;241m=\u001b[39m\u001b[38;5;28mself\u001b[39m\u001b[38;5;241m.\u001b[39mindex)\u001b[38;5;241m.\u001b[39m__finalize__(\n\u001b[0;32m   4239\u001b[0m         \u001b[38;5;28mself\u001b[39m, method\u001b[38;5;241m=\u001b[39m\u001b[38;5;124m\"\u001b[39m\u001b[38;5;124mmap\u001b[39m\u001b[38;5;124m\"\u001b[39m\n\u001b[0;32m   4240\u001b[0m     )\n",
      "File \u001b[1;32m~\\miniconda3\\lib\\site-packages\\pandas\\core\\base.py:880\u001b[0m, in \u001b[0;36mIndexOpsMixin._map_values\u001b[1;34m(self, mapper, na_action)\u001b[0m\n\u001b[0;32m    877\u001b[0m         \u001b[38;5;28;01mraise\u001b[39;00m \u001b[38;5;167;01mValueError\u001b[39;00m(msg)\n\u001b[0;32m    879\u001b[0m \u001b[38;5;66;03m# mapper is a function\u001b[39;00m\n\u001b[1;32m--> 880\u001b[0m new_values \u001b[38;5;241m=\u001b[39m \u001b[43mmap_f\u001b[49m\u001b[43m(\u001b[49m\u001b[43mvalues\u001b[49m\u001b[43m,\u001b[49m\u001b[43m \u001b[49m\u001b[43mmapper\u001b[49m\u001b[43m)\u001b[49m\n\u001b[0;32m    882\u001b[0m \u001b[38;5;28;01mreturn\u001b[39;00m new_values\n",
      "File \u001b[1;32m~\\miniconda3\\lib\\site-packages\\pandas\\_libs\\lib.pyx:2870\u001b[0m, in \u001b[0;36mpandas._libs.lib.map_infer\u001b[1;34m()\u001b[0m\n",
      "Cell \u001b[1;32mIn[15], line 55\u001b[0m, in \u001b[0;36mprocessURL\u001b[1;34m(url)\u001b[0m\n\u001b[0;32m     53\u001b[0m \u001b[38;5;28;01mdef\u001b[39;00m \u001b[38;5;21mprocessURL\u001b[39m(url: \u001b[38;5;28mstr\u001b[39m) \u001b[38;5;241m-\u001b[39m\u001b[38;5;241m>\u001b[39m \u001b[38;5;28mlist\u001b[39m:\n\u001b[0;32m     54\u001b[0m     url \u001b[38;5;241m=\u001b[39m cleanURL(url)\n\u001b[1;32m---> 55\u001b[0m     (h, a, p) \u001b[38;5;241m=\u001b[39m splitURL(url)\n\u001b[0;32m     56\u001b[0m     head \u001b[38;5;241m=\u001b[39m processHeader(h)\n\u001b[0;32m     57\u001b[0m     addr \u001b[38;5;241m=\u001b[39m processAddress(a)\n",
      "\u001b[1;31mTypeError\u001b[0m: cannot unpack non-iterable NoneType object"
     ]
    }
   ],
   "source": [
    "import re\n",
    "\n",
    "# url_pattern = r\"(https?://)?([A-Za-z0-9.\\-_]+.[A-Za-z0-9.\\-_]{2,3})(/[A-Za-z0-9\\/\\\\\\-\\.\\_\\~\\:\\/\\?\\#\\[\\]\\@\\!\\$\\&\\'\\(\\)\\*\\+\\,\\;\\=\\%]*)?\"\n",
    "url_pattern = r\"(https?://)?([a-z$-.0-_~]+\\.[a-zA-Z0-9]{1,4})(/[a-z$-_~]*)?\"\n",
    "url_re = re.compile(url_pattern)\n",
    "\n",
    "ip_pattern = r\"\\d{1,3}.\\d{1,3}.\\d{1,3}.\\d{1,3}\"\n",
    "ip_re = re.compile(ip_pattern)\n",
    "\n",
    "\n",
    "def cleanURL(url: str) -> str:\n",
    "    if url[0] in [\"'\", '\"']:\n",
    "        url = url[1:]\n",
    "    if url[-1] in [\"'\", '\"']:\n",
    "        url = url[:-2]\n",
    "    return url\n",
    "\n",
    "\n",
    "def splitURL(url: str) -> tuple:\n",
    "    match = url_re.match(url)\n",
    "    if match == None:\n",
    "        print(url)\n",
    "    return match.group(1,2,3) if (match != None) else None\n",
    "\n",
    "\n",
    "# Return 1 if use https, 0 otherwise\n",
    "def processHeader(head: str) -> int:\n",
    "    return int(head == \"https://\")\n",
    "\n",
    "\n",
    "# Extract properties of interest from the Address part of the URL\n",
    "def processAddress(addr: str) -> list:\n",
    "    if ip_re.match(addr) != None:\n",
    "        return [1,0,0,0,3] # TODO\n",
    "    # p1 = # get domain\n",
    "    p2 = int(addr.find(\"-\") != None) # contains -\n",
    "    p3 = int(addr.find(\"_\") != None) # contains _\n",
    "    p4 = int(addr.find(\".\") != None) # contains .\n",
    "    return [0, p2, p3, p4]\n",
    "\n",
    "\n",
    "# Extract properties of interest from the Path part of the URL\n",
    "def processPath(path: str) -> list:\n",
    "    if path != None:\n",
    "        p1 = path.count(\"/\")              # number of sub-paths (/)\n",
    "        p2 = int(path.find(\"//\") != None) # contains //\n",
    "        p3 = int(path.find(\"@\") != None)  # contains @\n",
    "        p4 = path.count(\"?\")              # number of ?\n",
    "        return [p1, p2, p3, p4]\n",
    "    return [0,0,0,0]\n",
    "\n",
    "\n",
    "def processURL(url: str) -> list:\n",
    "    url = cleanURL(url)\n",
    "    (h, a, p) = splitURL(url)\n",
    "    head = processHeader(h)\n",
    "    addr = processAddress(a)\n",
    "    path = processPath(p)\n",
    "    return [len(url), head] + addr + path\n",
    "\n",
    "\n",
    "print(splitURL(data[\"URL\"].iloc[549245]))\n",
    "\n",
    "data[\"Vector\"] = data[\"URL\"].map(processURL)\n",
    "print(data)"
   ]
  },
  {
   "cell_type": "code",
   "execution_count": null,
   "id": "654f0609-9849-4c76-bd99-596fdce465d2",
   "metadata": {},
   "outputs": [],
   "source": []
  }
 ],
 "metadata": {
  "kernelspec": {
   "display_name": "Python 3 (ipykernel)",
   "language": "python",
   "name": "python3"
  },
  "language_info": {
   "codemirror_mode": {
    "name": "ipython",
    "version": 3
   },
   "file_extension": ".py",
   "mimetype": "text/x-python",
   "name": "python",
   "nbconvert_exporter": "python",
   "pygments_lexer": "ipython3",
   "version": "3.9.7"
  }
 },
 "nbformat": 4,
 "nbformat_minor": 5
}
