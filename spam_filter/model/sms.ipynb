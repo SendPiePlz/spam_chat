{
 "cells": [
  {
   "cell_type": "markdown",
   "id": "77b5e6f5-d2d0-42ea-be04-1eaecf921b24",
   "metadata": {
    "tags": []
   },
   "source": [
    "# SMS Classification\n",
    "\n",
    "+ https://machinelearningmastery.com/naive-bayes-classifier-scratch-python/\n",
    "+ https://towardsdatascience.com/naive-bayes-classifier-from-scratch-with-python-942708211470\n",
    "+ https://scikit-learn.org/stable/modules/naive_bayes.html\n",
    "+ https://pythonspot.com/nltk-stop-words/\n",
    "+ https://www.youtube.com/watch?v=O2L2Uv9pdDA"
   ]
  },
  {
   "cell_type": "code",
   "execution_count": 5,
   "id": "ac9f66d4-e901-4a4b-a177-be21be440559",
   "metadata": {},
   "outputs": [],
   "source": [
    "import numpy as np\n",
    "import pandas as pd\n",
    "\n",
    "from sklearn.model_selection import train_test_split\n",
    "from sklearn.naive_bayes import GaussianNB\n",
    "\n",
    "import matplotlib.pyplot as plt\n",
    "%matplotlib inline"
   ]
  },
  {
   "cell_type": "markdown",
   "id": "97face21-718f-49c8-ad07-6f40b01f45e6",
   "metadata": {},
   "source": [
    "## Data Import and Cleaning\n",
    "\n",
    "__Source:__\n",
    "https://www.kaggle.com/datasets/uciml/sms-spam-collection-dataset\n",
    "\n",
    "__Cleaning Process:__\n",
    "1. Tokenize/Split messages\n",
    "2. Remove unnecessary symbols\n",
    "3. Stem word\n",
    "4. "
   ]
  },
  {
   "cell_type": "code",
   "execution_count": 2,
   "id": "a53ae89a-46ed-4797-91c3-0658215e52dc",
   "metadata": {},
   "outputs": [
    {
     "name": "stdout",
     "output_type": "stream",
     "text": [
      "      v1                                                 v2\n",
      "0      0  Go until jurong point, crazy.. Available only ...\n",
      "1      0                      Ok lar... Joking wif u oni...\n",
      "2      1  Free entry in 2 a wkly comp to win FA Cup fina...\n",
      "3      0  U dun say so early hor... U c already then say...\n",
      "4      0  Nah I don't think he goes to usf, he lives aro...\n",
      "...   ..                                                ...\n",
      "5567   1  This is the 2nd time we have tried 2 contact u...\n",
      "5568   0              Will Ì_ b going to esplanade fr home?\n",
      "5569   0  Pity, * was in mood for that. So...any other s...\n",
      "5570   0  The guy did some bitching but I acted like i'd...\n",
      "5571   0                         Rofl. Its true to its name\n",
      "\n",
      "[5572 rows x 2 columns]\n"
     ]
    }
   ],
   "source": [
    "data = pd.read_csv(\"./data/spam.csv\", encoding=\"latin1\")\n",
    "data.drop(data.iloc[:, 2:], axis=1, inplace=True)\n",
    "data[\"v1\"].replace(to_replace=\"spam\", value=1, inplace=True)\n",
    "data[\"v1\"].replace(to_replace=\"ham\", value=0, inplace=True)\n",
    "\n",
    "print(data)"
   ]
  },
  {
   "cell_type": "code",
   "execution_count": 10,
   "id": "8b1b97b5-5335-43be-9f3a-9af83311d5d7",
   "metadata": {},
   "outputs": [
    {
     "data": {
      "image/png": "[encoded data removed]",
      "text/plain": [
       "<Figure size 640x480 with 1 Axes>"
      ]
     },
     "metadata": {},
     "output_type": "display_data"
    }
   ],
   "source": [
    "sizes = [data[data[\"v1\"] == 0].shape[0]\n",
    "        ,data[data[\"v1\"] == 1].shape[0]\n",
    "        ]\n",
    "\n",
    "fig1, ax1 = plt.subplots()\n",
    "ax1.pie(sizes, labels=[\"ham\", \"spam\"], autopct='%1.1f%%')\n",
    "plt.show()"
   ]
  },
  {
   "cell_type": "code",
   "execution_count": 16,
   "id": "ff87ddb5-1a56-453b-9bc1-74c00edf287a",
   "metadata": {},
   "outputs": [
    {
     "name": "stdout",
     "output_type": "stream",
     "text": [
      "0       [go, until, jurong, point, crazi, avail, onli,...\n",
      "1                            [ok, lar, joke, wif, u, oni]\n",
      "2       [free, entri, in, 2, a, wkli, comp, to, win, f...\n",
      "3       [u, dun, say, so, earli, hor, u, c, alreadi, t...\n",
      "4       [nah, i, do, n't, think, he, goe, to, usf, he,...\n",
      "                              ...                        \n",
      "5567    [thi, is, the, 2nd, time, we, have, tri, 2, co...\n",
      "5568            [will, ì_, b, go, to, esplanad, fr, home]\n",
      "5569    [piti, *, wa, in, mood, for, that, so, ani, ot...\n",
      "5570    [the, guy, did, some, bitch, but, i, act, like...\n",
      "5571                       [rofl, it, true, to, it, name]\n",
      "Name: Vector, Length: 5572, dtype: object\n"
     ]
    }
   ],
   "source": [
    "from nltk.tokenize import word_tokenize\n",
    "from nltk.stem.porter import PorterStemmer\n",
    "# from nltk.stem.snowball import SnowballStemmer\n",
    "\n",
    "punc = [',','.','?','!',';',':']\n",
    "stem = PorterStemmer()\n",
    "# stem = SnowballStemmer('english')\n",
    "\n",
    "# Tokenize, filter, and stem an SMS message\n",
    "def processSMS(sms: str) -> list:\n",
    "    words = word_tokenize(sms)\n",
    "    words = [stem.stem(w) for w in words if w[0] not in punc]\n",
    "    return words\n",
    "\n",
    "# print(data[\"v2\"].iloc[0])\n",
    "# print(processSMS(data[\"v2\"].iloc[0]))\n",
    "\n",
    "data[\"Vector\"] = data[\"v2\"].map(processSMS)\n",
    "print(data[\"Vector\"])"
   ]
  },
  {
   "cell_type": "code",
   "execution_count": 28,
   "id": "eb3f6f65-b345-4668-8e15-25d834247940",
   "metadata": {},
   "outputs": [],
   "source": [
    "# Gather word statistics\n",
    "stats = {}\n",
    "for i in data.index:\n",
    "    for w in data[\"Vector\"][i]:\n",
    "        e = [0,0]\n",
    "        if stats.get(w) != None:\n",
    "            e = stats[w]\n",
    "        e[data[\"v1\"][i]] += 1\n",
    "        stats[w] = e"
   ]
  },
  {
   "cell_type": "code",
   "execution_count": null,
   "id": "e1dbcf15-6b8a-4ccb-8723-be2fc0e1ef58",
   "metadata": {},
   "outputs": [],
   "source": []
  }
 ],
 "metadata": {
  "kernelspec": {
   "display_name": "Python 3 (ipykernel)",
   "language": "python",
   "name": "python3"
  },
  "language_info": {
   "codemirror_mode": {
    "name": "ipython",
    "version": 3
   },
   "file_extension": ".py",
   "mimetype": "text/x-python",
   "name": "python",
   "nbconvert_exporter": "python",
   "pygments_lexer": "ipython3",
   "version": "3.9.7"
  }
 },
 "nbformat": 4,
 "nbformat_minor": 5
}
