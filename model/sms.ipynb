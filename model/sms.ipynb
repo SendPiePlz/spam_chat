{
 "cells": [
  {
   "cell_type": "markdown",
   "id": "77b5e6f5-d2d0-42ea-be04-1eaecf921b24",
   "metadata": {
    "tags": []
   },
   "source": [
    "# SMS Classification\n",
    "\n",
    "+ https://machinelearningmastery.com/naive-bayes-classifier-scratch-python/\n",
    "+ https://towardsdatascience.com/naive-bayes-classifier-from-scratch-with-python-942708211470\n",
    "+ https://scikit-learn.org/stable/modules/naive_bayes.html\n",
    "+ https://pythonspot.com/nltk-stop-words/\n",
    "+ https://www.youtube.com/watch?v=O2L2Uv9pdDA\n",
    "+ https://scikit-learn.org/stable/tutorial/text_analytics/working_with_text_data.html"
   ]
  },
  {
   "cell_type": "code",
   "execution_count": 1,
   "id": "ac9f66d4-e901-4a4b-a177-be21be440559",
   "metadata": {},
   "outputs": [],
   "source": [
    "import numpy as np\n",
    "import pandas as pd\n",
    "\n",
    "import re\n",
    "\n",
    "from sklearn import metrics\n",
    "from sklearn.model_selection import train_test_split\n",
    "from sklearn.pipeline import Pipeline\n",
    "from sklearn.feature_extraction.text import CountVectorizer\n",
    "from sklearn.naive_bayes import MultinomialNB, ComplementNB\n",
    "from sklearn.linear_model import SGDClassifier\n",
    "\n",
    "import matplotlib.pyplot as plt\n",
    "%matplotlib inline"
   ]
  },
  {
   "cell_type": "markdown",
   "id": "97face21-718f-49c8-ad07-6f40b01f45e6",
   "metadata": {},
   "source": [
    "---\n",
    "## Data Import and Cleaning\n",
    "\n",
    "__Source:__\n",
    "https://www.kaggle.com/datasets/uciml/sms-spam-collection-dataset\n",
    "\n",
    "__Cleaning Process:__\n",
    "1. Tokenize/Split messages\n",
    "2. Remove unnecessary symbols\n",
    "3. Stem word\n",
    "4. "
   ]
  },
  {
   "cell_type": "code",
   "execution_count": 2,
   "id": "a53ae89a-46ed-4797-91c3-0658215e52dc",
   "metadata": {},
   "outputs": [
    {
     "name": "stdout",
     "output_type": "stream",
     "text": [
      "      v1                                                 v2\n",
      "0      0  Go until jurong point, crazy.. Available only ...\n",
      "1      0                      Ok lar... Joking wif u oni...\n",
      "2      1  Free entry in 2 a wkly comp to win FA Cup fina...\n",
      "3      0  U dun say so early hor... U c already then say...\n",
      "4      0  Nah I don't think he goes to usf, he lives aro...\n",
      "...   ..                                                ...\n",
      "5567   1  This is the 2nd time we have tried 2 contact u...\n",
      "5568   0              Will Ì_ b going to esplanade fr home?\n",
      "5569   0  Pity, * was in mood for that. So...any other s...\n",
      "5570   0  The guy did some bitching but I acted like i'd...\n",
      "5571   0                         Rofl. Its true to its name\n",
      "\n",
      "[5572 rows x 2 columns]\n"
     ]
    }
   ],
   "source": [
    "data = pd.read_csv(\"./data/spam.csv\", encoding=\"latin1\")\n",
    "data.drop(data.iloc[:, 2:], axis=1, inplace=True)\n",
    "data[\"v1\"].replace(to_replace=\"spam\", value=1, inplace=True)\n",
    "data[\"v1\"].replace(to_replace=\"ham\", value=0, inplace=True)\n",
    "\n",
    "print(data)"
   ]
  },
  {
   "cell_type": "code",
   "execution_count": 3,
   "id": "8b1b97b5-5335-43be-9f3a-9af83311d5d7",
   "metadata": {},
   "outputs": [
    {
     "data": {
      "image/png": "[encoded data removed]",
      "text/plain": [
       "<Figure size 640x480 with 1 Axes>"
      ]
     },
     "metadata": {},
     "output_type": "display_data"
    }
   ],
   "source": [
    "sizes = [data[data[\"v1\"] == 0].shape[0]\n",
    "        ,data[data[\"v1\"] == 1].shape[0]\n",
    "        ]\n",
    "\n",
    "fig1, ax1 = plt.subplots()\n",
    "ax1.pie(sizes, labels=[\"ham\", \"spam\"], autopct='%1.1f%%')\n",
    "plt.show()"
   ]
  },
  {
   "cell_type": "code",
   "execution_count": 4,
   "id": "9734de03-e866-416e-806c-2d4eee55fcaa",
   "metadata": {},
   "outputs": [],
   "source": [
    "split_re = re.compile(r\"\\W\")\n",
    "\n",
    "def tokenize(s: str) -> list:\n",
    "    return split_re.split(s)"
   ]
  },
  {
   "cell_type": "code",
   "execution_count": 5,
   "id": "77e584a4-367a-4c3f-b8d1-3ba92268e191",
   "metadata": {},
   "outputs": [],
   "source": [
    "import unicodedata as ud\n",
    "\n",
    "# https://stackoverflow.com/a/518232\n",
    "def remove_accents(s: str) -> str:\n",
    "    return ''.join(c for c in ud.normalize('NFD', s) if ud.category(c) != 'Mn')"
   ]
  },
  {
   "cell_type": "code",
   "execution_count": 6,
   "id": "6d160556-1812-48e4-b53e-805375cb2046",
   "metadata": {},
   "outputs": [],
   "source": [
    "# url_re = re.compile(r'(https?://|www1?\\.)?([^/.]+\\.[^/.]+)+(/.*)?')\n",
    "url_re = re.compile(r\"(https?://)?(([^/\\s]+\\.)+[^/\\s]+)(/\\S*)?\")\n",
    "num_re = re.compile(r'^\\d+(\\.\\d+)?\\w{0,3}$')\n",
    "# phone_re = re.compile(r'\\+?[0-9\\(\\)\\-]{5,}')\n",
    "\n",
    "# NOTE: Stemmed\n",
    "text_num = {'zero','one','two','three','four','five','six','seven','eight','nine',\n",
    "            'ten','eleven','twelve','thirteen','fourteen','fifteen','sixteen','seventeen','eighteen','nineteen',\n",
    "            'twenti','thirti','forti','fifti','sixti','seventi','eighti','nineti',\n",
    "            'hundrend','thousand','million','billion','trillion'}\n",
    "\n",
    "def categorize(w: str) -> str:\n",
    "    if num_re.match(w) or w in text_num:\n",
    "        return '{{num}}'\n",
    "    if url_re.match(w):\n",
    "        return '{{url}}'\n",
    "    # if phone_re.match(w):\n",
    "    #     return '{{phone}}'\n",
    "    if not w.isalpha():\n",
    "        # TODO: categorize special cases\n",
    "        return '{{other}}'\n",
    "    return w"
   ]
  },
  {
   "cell_type": "code",
   "execution_count": 7,
   "id": "0d8eed15-cb35-4a0e-bfdf-7d20b0ff86a3",
   "metadata": {},
   "outputs": [],
   "source": [
    "# \n",
    "# normals={\n",
    "#     '&': 'and',\n",
    "#     'k': 'okay',\n",
    "#     'ok': 'okay',\n",
    "#     'u': 'you',\n",
    "#     'ur': 'your',\n",
    "#     'xxx': 'sex',\n",
    "#     'plz': 'please',\n",
    "#     'pls': 'please',\n",
    "#     'thk': 'thank',\n",
    "#     'ansr': 'answer',\n",
    "# }\n",
    "\n",
    "def remove_chars(w: str) -> str:\n",
    "    if len(w) < 3:\n",
    "        return w\n",
    "    nw  = w[0]\n",
    "    cc  = w[0]\n",
    "    ccc = 1\n",
    "    for i in range(1, len(w)):\n",
    "        if w[i] == cc:\n",
    "            if ccc == 1:\n",
    "                nw += cc\n",
    "            ccc += 1\n",
    "        else:\n",
    "            cc = w[i]\n",
    "            nw += cc\n",
    "            ccc = 1                        \n",
    "    return nw\n",
    "\n",
    "def remove_wrapping_punc(w: str) -> str:\n",
    "    s, e = 0, len(w)-1\n",
    "    while s < len(w) and not w[s].isalnum(): s += 1\n",
    "    while e > s and not w[e].isalnum(): e -= 1\n",
    "    return w[s:e+1]\n",
    "\n",
    "def normalize(w: str) -> str:\n",
    "    # Pre-check\n",
    "    # if normals.get(w) != None:\n",
    "    #     return normals.get(w)\n",
    "    \n",
    "    k = remove_chars(w)\n",
    "    # k = remove_wrapping_punc(k)\n",
    "    \n",
    "    # Post-check\n",
    "    # if normals.get(k) != None:\n",
    "    #     return normals.get(k)\n",
    "    return k"
   ]
  },
  {
   "cell_type": "code",
   "execution_count": 45,
   "id": "ff87ddb5-1a56-453b-9bc1-74c00edf287a",
   "metadata": {},
   "outputs": [
    {
     "name": "stdout",
     "output_type": "stream",
     "text": [
      "0       [go, until, jurong, point, crazi, avail, onli,...\n",
      "1                            [ok, lar, joke, wif, u, oni]\n",
      "2       [free, entri, in, {{num}}, a, wkli, comp, to, ...\n",
      "3       [u, dun, say, so, earli, hor, u, c, alreadi, t...\n",
      "4       [nah, i, don, t, think, he, goe, to, usf, he, ...\n",
      "                              ...                        \n",
      "5567    [thi, is, the, {{num}}, time, we, have, tri, {...\n",
      "5568     [will, {{other}}, b, go, to, esplanad, fr, home]\n",
      "5569    [piti, wa, in, mood, for, that, so, ani, other...\n",
      "5570    [the, guy, did, some, bitch, but, i, act, like...\n",
      "5571                       [rofl, it, true, to, it, name]\n",
      "Name: Vector, Length: 5572, dtype: object\n"
     ]
    }
   ],
   "source": [
    "# from nltk.tokenize import word_tokenize\n",
    "from nltk.stem.porter import PorterStemmer\n",
    "\n",
    "stem = PorterStemmer()\n",
    "\n",
    "# Tokenize, filter, and stem an SMS message\n",
    "def processSMS(sms: str) -> list:\n",
    "    ws = [categorize(normalize(stem.stem(remove_accents(w)))).encode('ascii', 'ignore').decode() for w in tokenize(sms) if len(w) > 0]\n",
    "    return [w for w in ws if len(w) > 0]\n",
    "\n",
    "data['Vector'] = data[\"v2\"].map(processSMS)\n",
    "print(data['Vector'])"
   ]
  },
  {
   "cell_type": "code",
   "execution_count": 46,
   "id": "5d1af5be-862f-45b9-8301-8abf1effc3f8",
   "metadata": {},
   "outputs": [
    {
     "name": "stdout",
     "output_type": "stream",
     "text": [
      "['URGENT', '', 'Your', 'Mobile', 'No', '', 'was', 'awarded', 'å', '2000', 'Bonus', 'Caller', 'Prize', 'on', '5', '9', '03', 'This', 'is', 'our', 'final', 'try', 'to', 'contact', 'U', '', 'Call', 'from', 'Landline', '09064019788', 'BOX42WR29C', '', '150PPM']\n",
      "urgent your mobil no wa award a {{num}} bonu caller prize on {{num}} {{num}} {{num}} thi is our final tri to contact u call from landlin {{num}} {{other}} {{num}}\n"
     ]
    }
   ],
   "source": [
    "expl = \"URGENT! Your Mobile No. was awarded å£2000 Bonus Caller Prize on 5/9/03 This is our final try to contact U! Call from Landline 09064019788 BOX42WR29C, 150PPM\"\n",
    "\n",
    "print(tokenize(expl))\n",
    "print(' '.join(processSMS(expl)))"
   ]
  },
  {
   "cell_type": "code",
   "execution_count": 47,
   "id": "e1dbcf15-6b8a-4ccb-8723-be2fc0e1ef58",
   "metadata": {},
   "outputs": [
    {
     "name": "stdout",
     "output_type": "stream",
     "text": [
      "3274\n",
      "\n",
      "[('i', [2944, 61]), ('you', [1943, 297]), ('to', [1554, 688]), ('{{num}}', [1324, 2629]), ('the', [1122, 206]), ('a', [1063, 676]), ('u', [1056, 174]), ('it', [932, 39]), ('and', [857, 122]), ('in', [818, 80]), ('me', [772, 30]), ('my', [751, 12]), ('is', [732, 158]), ('that', [594, 26]), ('of', [525, 95]), ('for', [501, 203]), ('have', [482, 135]), ('s', [478, 90]), ('do', [472, 25]), ('can', [439, 30])]\n",
      "[('{{num}}', [1324, 2629]), ('to', [1554, 688]), ('a', [1063, 676]), ('{{other}}', [295, 592]), ('call', [298, 374]), ('you', [1943, 297]), ('your', [427, 279]), ('free', [60, 224]), ('the', [1122, 206]), ('for', [501, 203]), ('now', [300, 199]), ('or', [235, 188]), ('txt', [14, 176]), ('u', [1056, 174]), ('is', [732, 158]), ('text', [86, 145]), ('on', [393, 144]), ('ur', [241, 144]), ('mobil', [15, 139]), ('have', [482, 135])]\n",
      "\n",
      "URLs:  None\n",
      "Numbers:  [1324, 2629]\n",
      "Phone Numbers:  None\n",
      "Other:  [295, 592]\n"
     ]
    }
   ],
   "source": [
    "# Gather word statistics\n",
    "stats = {}\n",
    "for i in data.index:\n",
    "    for w in data[\"Vector\"][i]:\n",
    "        e = [0,0]\n",
    "        if stats.get(w) != None:\n",
    "            e = stats.get(w)\n",
    "        e[data[\"v1\"][i]] += 1\n",
    "        stats[w] = e\n",
    "\n",
    "stI = [w for w in stats.items() if sum(w[1]) > 1]\n",
    "\n",
    "stG = sorted(stI, key=lambda i: i[1][0], reverse=True)\n",
    "stB = sorted(stI, key=lambda i: i[1][1], reverse=True)\n",
    "\n",
    "print(len(stI))\n",
    "print()\n",
    "print(stG[:20])\n",
    "print(stB[:20])\n",
    "print()\n",
    "print('URLs: ', stats.get('{{url}}'))\n",
    "print('Numbers: ', stats.get('{{num}}'))\n",
    "print('Phone Numbers: ', stats.get('{{phone}}'))\n",
    "print('Other: ', stats.get('{{other}}'))"
   ]
  },
  {
   "cell_type": "code",
   "execution_count": 48,
   "id": "84b51c2a-0c81-4831-ab80-cbe2200a380b",
   "metadata": {},
   "outputs": [
    {
     "data": {
      "image/png": "[encoded data removed]",
      "text/plain": [
       "<Figure size 640x480 with 1 Axes>"
      ]
     },
     "metadata": {},
     "output_type": "display_data"
    }
   ],
   "source": [
    "s = [v for v in stats.values() if sum(v) in range(5, 1000)]\n",
    "x = [v[0] for v in s]\n",
    "y = [v[1] for v in s]\n",
    "\n",
    "\n",
    "fig2, ax2 = plt.subplots()\n",
    "ax2.scatter(x, y, marker='.', alpha=0.3)\n",
    "ax2.set_xlabel('good')\n",
    "ax2.set_ylabel('bad')\n",
    "plt.show()"
   ]
  },
  {
   "cell_type": "markdown",
   "id": "1fa25ac3-721a-4e1c-be16-d4f0af83c58b",
   "metadata": {},
   "source": [
    "---\n",
    "## Training and Testing\n",
    "\n",
    "+ Data splitting\n",
    "+ Testing Multinomial Naive Bayes\n",
    "+ Testing Support Vector Machine"
   ]
  },
  {
   "cell_type": "code",
   "execution_count": 49,
   "id": "cfbf6aaf-01dd-4c87-b76e-4c07a80e063c",
   "metadata": {},
   "outputs": [],
   "source": [
    "def joinItems(ws: list) -> str:\n",
    "    return ' '.join(ws)\n",
    "    \n",
    "vs = data['Vector'].map(joinItems).values\n",
    "\n",
    "trainX, testX, trainY, testY = train_test_split(vs, data['v1'], test_size=0.3, random_state=42)"
   ]
  },
  {
   "cell_type": "code",
   "execution_count": 50,
   "id": "c8ed694d-f674-4a75-82e6-2f86063b72dd",
   "metadata": {},
   "outputs": [
    {
     "name": "stdout",
     "output_type": "stream",
     "text": [
      "              precision    recall  f1-score   support\n",
      "\n",
      "        good       0.99      0.99      0.99      1453\n",
      "         bad       0.94      0.93      0.93       219\n",
      "\n",
      "    accuracy                           0.98      1672\n",
      "   macro avg       0.96      0.96      0.96      1672\n",
      "weighted avg       0.98      0.98      0.98      1672\n",
      "\n"
     ]
    }
   ],
   "source": [
    "mnb = Pipeline([\n",
    "    ('vect', CountVectorizer(token_pattern=r'(?u)\\b\\w\\w+\\b|\\{\\{\\w+\\}\\}')),\n",
    "    ('clf', MultinomialNB()),\n",
    "])\n",
    "mnb.fit(trainX, trainY)\n",
    "\n",
    "pred = mnb.predict(testX)\n",
    "# print(len(mnb.steps[0][1].get_feature_names_out()))\n",
    "print(metrics.classification_report(testY, pred, target_names=['good','bad']))"
   ]
  },
  {
   "cell_type": "code",
   "execution_count": 51,
   "id": "ff545fa3-9290-4761-b444-1e8d645b004e",
   "metadata": {},
   "outputs": [
    {
     "name": "stdout",
     "output_type": "stream",
     "text": [
      "              precision    recall  f1-score   support\n",
      "\n",
      "        good       0.99      1.00      0.99      1453\n",
      "         bad       0.97      0.92      0.94       219\n",
      "\n",
      "    accuracy                           0.99      1672\n",
      "   macro avg       0.98      0.96      0.97      1672\n",
      "weighted avg       0.99      0.99      0.99      1672\n",
      "\n"
     ]
    }
   ],
   "source": [
    "svm = Pipeline([\n",
    "    ('vect', CountVectorizer(token_pattern=r'(?u)\\b\\w\\w+\\b|\\{\\{\\w+\\}\\}')),\n",
    "    ('clf', SGDClassifier(loss='hinge', penalty='l2', alpha=1e-3, random_state=42, max_iter=5, tol=None)),\n",
    "])\n",
    "svm.fit(trainX, trainY)\n",
    "\n",
    "pred = svm.predict(testX)\n",
    "print(metrics.classification_report(testY, pred, target_names=['good','bad']))"
   ]
  },
  {
   "cell_type": "code",
   "execution_count": 52,
   "id": "6b829524-d32d-49f8-b45a-937b14183ea6",
   "metadata": {},
   "outputs": [
    {
     "name": "stdout",
     "output_type": "stream",
     "text": [
      "              precision    recall  f1-score   support\n",
      "\n",
      "        good       0.99      0.98      0.98      1453\n",
      "         bad       0.86      0.95      0.90       219\n",
      "\n",
      "    accuracy                           0.97      1672\n",
      "   macro avg       0.93      0.96      0.94      1672\n",
      "weighted avg       0.98      0.97      0.97      1672\n",
      "\n"
     ]
    }
   ],
   "source": [
    "cnb = Pipeline([\n",
    "    ('vect', CountVectorizer(token_pattern=r'(?u)\\b\\w\\w+\\b|\\{\\{\\w+\\}\\}')),\n",
    "    ('clf', ComplementNB()),\n",
    "])\n",
    "cnb.fit(trainX, trainY)\n",
    "\n",
    "pred = cnb.predict(testX)\n",
    "print(metrics.classification_report(testY, pred, target_names=['good','bad']))"
   ]
  },
  {
   "cell_type": "markdown",
   "id": "de571773-45ea-40ac-837b-259539094a34",
   "metadata": {},
   "source": [
    "---\n",
    "## Post-Processing\n",
    "\n",
    "+ Code generation\n",
    "+ Other statistics"
   ]
  },
  {
   "cell_type": "code",
   "execution_count": 53,
   "id": "834b0af6-3d4f-4649-8808-34b92e7c2c60",
   "metadata": {
    "scrolled": true,
    "tags": []
   },
   "outputs": [],
   "source": [
    "names  = mnb.steps[0][1].get_feature_names_out()\n",
    "values = mnb.steps[-1][1].feature_log_prob_\n",
    "size   = len(values[0])\n",
    "\n",
    "rng = \"\"\n",
    "cnt = \"\"\n",
    "\n",
    "cc   = names[0][0]\n",
    "low  = 0\n",
    "high = 0\n",
    "\n",
    "# Generate Code for the Flutter App\n",
    "for i, n in enumerate(names):\n",
    "    if cc != n[0]:\n",
    "        rng += \"'{0}': Region({1}, {2}),\\n\".format(cc, low, high)\n",
    "        low = high+1\n",
    "        cc = n[0]    \n",
    "    cnt += \"DictEntry('{0}', {1}, {2}),\\n\".format(n, values[0][i], values[1][i])\n",
    "    high = i\n",
    "\n",
    "# Add last region\n",
    "rng += \"'{0}': Region({1}, {2}),\\n\".format(cc, low, high)\n",
    "\n",
    "with open(\"../lib/ai/spam_vocabulary.dart\", \"w\") as f:\n",
    "    f.write(\"\")\n",
    "    f.write(\"import 'package:spam_chat/models/dictionary.dart';\\n\\n\")\n",
    "    f.write('//=================================================//\\n\\n')\n",
    "    f.write('/// Contains the log likelihoods used to make a multinomial naive bayes prediction.\\n')\n",
    "    f.write('///\\n')\n",
    "    f.write('/// (Code generated by python script `model/sms.ipynb`)\\n')\n",
    "    f.write(\"const vocabulary = Dictionary(\\n\")\n",
    "    f.write('{')\n",
    "    f.write(rng)\n",
    "    f.write('},\\n')\n",
    "    f.write('[')\n",
    "    f.write(cnt)\n",
    "    f.write('],\\n')\n",
    "    f.write(');')"
   ]
  },
  {
   "cell_type": "code",
   "execution_count": 22,
   "id": "fff9bd69-3168-4b84-b5e6-0a141d6fed93",
   "metadata": {
    "scrolled": true,
    "tags": []
   },
   "outputs": [
    {
     "name": "stdout",
     "output_type": "stream",
     "text": [
      "1014\n",
      "[('a', [1060, 676]), ('aaniy', [1, 0]), ('abdomen', [1, 0]), ('absenc', [1, 0]), ('absolut', [1, 0]), ('aburo', [2, 0]), ('abus', [1, 1]), ('accentur', [1, 0]), ('achiev', [1, 0]), ('acnt', [1, 0]), ('actin', [1, 0]), ('adjust', [1, 0]), ('adsens', [1, 0]), ('advanc', [7, 0]), ('advisor', [0, 1]), ('affection', [1, 0]), ('afternon', [1, 0]), ('agalla', [2, 0]), ('ahh', [2, 0]), ('alertfrom', [0, 1]), ('alett', [1, 0]), ('alian', [1, 0]), ('alibi', [1, 0]), ('allalo', [1, 0]), ('allo', [1, 0]), ('aluabl', [1, 0]), ('amanda', [0, 1]), ('amongst', [2, 0]), ('amus', [2, 0]), ('anal', [1, 0]), ('analysi', [1, 0]), ('anand', [1, 0]), ('anji', [1, 0]), ('anniversari', [2, 0]), ('anonym', [0, 1]), ('antibiot', [1, 0]), ('anyhow', [1, 0]), ('anythi', [1, 0]), ('anythingtomorrow', [1, 0]), ('aoharri', [0, 1]), ('aoit', [0, 1]), ('aom', [0, 2]), ('aomorrow', [1, 0]), ('ape', [1, 0]), ('apeshit', [1, 0]), ('apologet', [1, 0]), ('appendix', [1, 0]), ('appl', [1, 0]), ('applic', [2, 0]), ('appropri', [1, 0]), ('archiv', [1, 0]), ('arestaur', [1, 0]), ('aretak', [1, 0]), ('argentina', [1, 0]), ('aroundn', [1, 0]), ('ash', [1, 0]), ('asia', [1, 0]), ('astronom', [1, 0]), ('athlet', [1, 0]), ('attent', [1, 0]), ('attribut', [1, 0]), ('atur', [1, 0]), ('awkward', [1, 0]), ('ax', [1, 0]), ('b', [69, 15]), ('babyjontet', [1, 0]), ('badli', [1, 0]), ('badrith', [1, 0]), ('ban', [0, 1]), ('bani', [1, 0]), ('banneduk', [0, 1]), ('barbi', [0, 1]), ('barcelona', [1, 0]), ('barkley', [0, 1]), ('barri', [0, 1]), ('bash', [1, 0]), ('basketbal', [1, 0]), ('batsman', [1, 0]), ('bbc', [0, 1]), ('bcaz', [1, 0]), ('beach', [1, 0]), ('begun', [1, 0]), ('behalf', [1, 0]), ('belt', [1, 0]), ('beneath', [2, 0]), ('benefit', [1, 1]), ('betta', [1, 0]), ('bettr', [1, 0]), ('bian', [1, 0]), ('bimbo', [1, 0]), ('biro', [1, 0]), ('birthdat', [2, 0]), ('bleak', [1, 0]), ('bloo', [3, 0]), ('boatin', [1, 0]), ('bob', [0, 1]), ('bognor', [1, 0]), ('bomb', [1, 0]), ('bone', [2, 0]), ('boob', [1, 0]), ('bookedth', [1, 0]), ('bookshelf', [1, 0]), ('bottl', [3, 0]), ('boundari', [1, 0]), ('bowa', [1, 0]), ('boyfriend', [2, 0]), ('bra', [1, 0]), ('braini', [1, 0]), ('brat', [1, 0]), ('brave', [1, 0]), ('brb', [1, 0]), ('breakfast', [1, 0]), ('bridg', [1, 0]), ('brin', [1, 0]), ('broadband', [1, 0]), ('broth', [1, 0]), ('brum', [1, 0]), ('bsnl', [1, 0]), ('bubbletext', [0, 1]), ('buen', [1, 0]), ('buffi', [0, 1]), ('bull', [1, 0]), ('burial', [1, 0]), ('burrito', [1, 0]), ('buse', [2, 0]), ('busti', [0, 1]), ('bw', [1, 0]), ('c', [63, 56]), ('cab', [1, 0]), ('camri', [1, 0]), ('cantdo', [1, 0]), ('capac', [1, 0]), ('careless', [1, 0]), ('carolina', [1, 0]), ('cast', [1, 1]), ('caveboy', [1, 0]), ('certif', [1, 0]), ('champ', [1, 0]), ('champney', [0, 1]), ('chap', [0, 1]), ('chatter', [0, 1]), ('chef', [1, 0]), ('chequ', [1, 0]), ('chez', [1, 0]), ('chick', [1, 0]), ('chiong', [1, 0]), ('chip', [2, 0]), ('chloe', [0, 1]), ('chop', [1, 0]), ('christmassi', [1, 0]), ('ciao', [1, 0]), ('clarif', [1, 0]), ('clarifi', [1, 0]), ('clash', [1, 0]), ('clearli', [2, 0]), ('clip', [0, 1]), ('coach', [1, 0]), ('coax', [1, 0]), ('coher', [1, 0]), ('colani', [1, 0]), ('colin', [0, 1]), ('commit', [1, 0]), ('companion', [1, 0]), ('complementari', [0, 1]), ('comprehens', [1, 0]), ('compromis', [1, 0]), ('conduct', [2, 0]), ('consensu', [1, 0]), ('consist', [1, 0]), ('consol', [0, 2]), ('contin', [1, 0]), ('conveni', [1, 0]), ('convers', [1, 0]), ('coop', [1, 0]), ('cooper', [1, 0]), ('corvett', [1, 0]), ('cougar', [1, 0]), ('countin', [2, 0]), ('crab', [3, 0]), ('cribb', [1, 0]), ('crickit', [1, 0]), ('crisi', [2, 0]), ('crowd', [1, 0]), ('crucial', [1, 0]), ('crucifi', [1, 0]), ('cruisin', [1, 0]), ('cumin', [0, 1]), ('cupboard', [1, 0]), ('cuppa', [1, 0]), ('curfew', [1, 0]), ('curri', [2, 0]), ('customercar', [0, 1]), ('cyclist', [1, 0]), ('d', [131, 6]), ('dabbl', [1, 0]), ('dammit', [1, 0]), ('darkest', [0, 1]), ('data', [1, 0]), ('daytim', [0, 1]), ('dealer', [2, 0]), ('debat', [1, 0]), ('deepest', [0, 1]), ('defici', [1, 0]), ('definitli', [1, 0]), ('defo', [1, 0]), ('dengra', [1, 0]), ('derp', [1, 0]), ('design', [1, 0]), ('dhanush', [1, 0]), ('dhort', [1, 0]), ('diall', [0, 1]), ('dialogu', [1, 0]), ('dice', [1, 0]), ('diddi', [1, 0]), ('difficulti', [2, 0]), ('dimens', [1, 0]), ('dirtiest', [0, 1]), ('disc', [1, 0]), ('diseas', [1, 0]), ('disk', [1, 0]), ('dismay', [1, 0]), ('divorc', [1, 1]), ('dled', [1, 0]), ('dlf', [1, 0]), ('dob', [0, 1]), ('dock', [2, 0]), ('dontmatt', [1, 0]), ('dormitori', [1, 0]), ('dosometh', [1, 0]), ('downstem', [1, 0]), ('dozen', [0, 1]), ('dramastorm', [1, 0]), ('drizzl', [1, 0]), ('drugdeal', [1, 0]), ('drvgsto', [0, 1]), ('dump', [1, 0]), ('duo', [1, 0]), ('duvet', [1, 0]), ('dwn', [1, 0]), ('dysentri', [1, 0]), ('e', [84, 12]), ('earliest', [1, 0]), ('easiest', [1, 0]), ('edukkukaye', [1, 0]), ('eerulli', [1, 0]), ('effici', [1, 0]), ('el', [1, 0]), ('elama', [1, 0]), ('ello', [1, 0]), ('elvi', [0, 1]), ('embassi', [1, 0]), ('employ', [1, 0]), ('enc', [1, 0]), ('endless', [1, 0]), ('endow', [1, 0]), ('eppolum', [1, 0]), ('equal', [1, 0]), ('erupt', [1, 0]), ('evapor', [1, 0]), ('eventu', [1, 0]), ('exhibit', [1, 0]), ('expert', [1, 0]), ('ext', [1, 0]), ('extermin', [1, 0]), ('extract', [1, 0]), ('extrem', [0, 1]), ('f', [3, 11]), ('faber', [1, 0]), ('facil', [1, 0]), ('faint', [1, 0]), ('faith', [2, 0]), ('fallen', [1, 0]), ('farrel', [0, 1]), ('fear', [3, 0]), ('featheri', [1, 0]), ('feellikw', [1, 0]), ('ffection', [1, 0]), ('ffuu', [1, 0]), ('fiend', [1, 0]), ('fifth', [1, 0]), ('finalis', [1, 0]), ('firsg', [1, 0]), ('flaki', [2, 0]), ('flea', [1, 0]), ('flew', [1, 0]), ('flippin', [1, 0]), ('float', [1, 0]), ('flung', [1, 0]), ('flute', [1, 0]), ('fold', [1, 0]), ('fond', [1, 0]), ('fondli', [1, 0]), ('footprint', [3, 0]), ('fourth', [1, 0]), ('fowler', [1, 0]), ('fox', [1, 0]), ('fredericksburg', [1, 0]), ('freek', [1, 0]), ('frndsship', [1, 0]), ('fro', [1, 0]), ('fuckinnic', [1, 0]), ('furnitur', [2, 0]), ('g', [18, 9]), ('gail', [1, 0]), ('gam', [1, 0]), ('gandhipuram', [1, 0]), ('gate', [1, 0]), ('gautham', [3, 0]), ('gayl', [1, 0]), ('gene', [1, 0]), ('genu', [1, 0]), ('geoenvironment', [1, 0]), ('ger', [1, 0]), ('geti', [1, 0]), ('getsleep', [1, 0]), ('gibe', [1, 0]), ('gigolo', [0, 1]), ('given', [2, 0]), ('glasgow', [1, 0]), ('glass', [1, 0]), ('gloriou', [1, 0]), ('gnarl', [0, 1]), ('gobi', [1, 0]), ('golden', [1, 0]), ('gon', [1, 0]), ('gong', [1, 0]), ('gossip', [2, 1]), ('gotmarri', [1, 0]), ('gower', [1, 0]), ('gpr', [0, 1]), ('gravel', [0, 1]), ('gray', [1, 0]), ('gre', [1, 0]), ('greec', [1, 0]), ('grinul', [1, 0]), ('grl', [4, 0]), ('groov', [1, 0]), ('grown', [1, 0]), ('grumbl', [1, 0]), ('grumpi', [1, 0]), ('gsoh', [0, 1]), ('gua', [1, 0]), ('gudnyt', [1, 0]), ('guessin', [1, 0]), ('guidanc', [1, 0]), ('guoyang', [1, 0]), ('gurl', [1, 0]), ('gyna', [1, 0]), ('gyno', [1, 0]), ('h', [2, 0]), ('habba', [1, 0]), ('hadn', [1, 0]), ('haiyoh', [1, 0]), ('hall', [1, 0]), ('hamper', [1, 0]), ('hangin', [1, 0]), ('hank', [1, 0]), ('happiest', [1, 0]), ('hardest', [1, 0]), ('harish', [1, 0]), ('hasnt', [1, 0]), ('hassl', [1, 0]), ('hat', [1, 0]), ('haughaighgtujhyguj', [1, 0]), ('hava', [0, 1]), ('havn', [1, 0]), ('healer', [1, 0]), ('healthi', [1, 0]), ('heap', [1, 0]), ('hearin', [1, 0]), ('heavili', [1, 0]), ('hesit', [3, 0]), ('highest', [0, 1]), ('himself', [1, 0]), ('hiphop', [1, 0]), ('hitler', [1, 0]), ('hogli', [1, 0]), ('hogolo', [1, 0]), ('holbi', [1, 0]), ('hoo', [1, 0]), ('horniest', [0, 1]), ('hotmail', [1, 0]), ('housework', [1, 0]), ('howda', [1, 0]), ('hu', [1, 0]), ('hugh', [1, 0]), ('hui', [1, 0]), ('huim', [1, 0]), ('hum', [1, 0]), ('hurrican', [1, 0]), ('hut', [1, 0]), ('hvae', [0, 1]), ('i', [2944, 61]), ('ibor', [1, 0]), ('iccha', [1, 0]), ('icki', [1, 0]), ('iknow', [1, 0]), ('imag', [2, 0]), ('imat', [1, 0]), ('imin', [1, 0]), ('imped', [1, 0]), ('implic', [1, 0]), ('improv', [2, 2]), ('inde', [2, 0]), ('inev', [1, 0]), ('infect', [2, 0]), ('initi', [1, 0]), ('inperson', [1, 0]), ('inspect', [1, 0]), ('interflora', [0, 2]), ('interfu', [1, 0]), ('intern', [1, 0]), ('intha', [1, 0]), ('intrepid', [1, 0]), ('intrud', [1, 0]), ('invad', [0, 2]), ('invent', [1, 0]), ('investig', [1, 0]), ('ip', [1, 0]), ('ipaditan', [1, 0]), ('iphon', [1, 0]), ('isaiah', [1, 0]), ('j', [6, 1]), ('jackson', [1, 0]), ('jacuzzi', [1, 0]), ('janinexx', [0, 1]), ('janx', [1, 0]), ('japanes', [2, 0]), ('jeetey', [1, 0]), ('jen', [2, 0]), ('jenn', [1, 0]), ('jeri', [0, 1]), ('jerk', [1, 0]), ('jewelri', [1, 0]), ('jjc', [1, 0]), ('joanna', [2, 0]), ('jock', [0, 1]), ('jod', [1, 0]), ('jsco', [0, 2]), ('jule', [1, 0]), ('jumper', [1, 0]), ('justbeen', [1, 0]), ('justfound', [1, 0]), ('justifi', [1, 0]), ('juswok', [1, 0]), ('k', [145, 2]), ('kaaj', [1, 0]), ('katexx', [1, 0]), ('kaypoh', [1, 0]), ('kegger', [2, 0]), ('ken', [0, 1]), ('keri', [1, 0]), ('keyword', [0, 1]), ('khelat', [1, 0]), ('kicchu', [1, 0]), ('kilo', [1, 0]), ('kintu', [1, 0]), ('kiosk', [0, 2]), ('kisi', [1, 0]), ('kit', [0, 1]), ('knicker', [0, 1]), ('ko', [1, 0]), ('kodstini', [1, 0]), ('kodthini', [1, 0]), ('korch', [1, 0]), ('korli', [1, 0]), ('kort', [1, 0]), ('ktv', [1, 0]), ('kuch', [1, 0]), ('kvb', [1, 0]), ('kz', [2, 0]), ('l', [3, 1]), ('lack', [1, 0]), ('laden', [1, 0]), ('lage', [1, 0]), ('lager', [1, 0]), ('lambda', [1, 0]), ('landmark', [0, 1]), ('lap', [1, 0]), ('lapdanc', [0, 1]), ('lark', [1, 0]), ('laundri', [2, 0]), ('lauri', [1, 0]), ('lavend', [1, 0]), ('leadership', [0, 1]), ('leaf', [1, 0]), ('leagu', [1, 0]), ('lekdog', [1, 0]), ('leo', [1, 0]), ('level', [1, 0]), ('li', [1, 0]), ('lifebook', [1, 0]), ('lighter', [1, 0]), ('liquor', [1, 0]), ('listn', [1, 0]), ('litr', [1, 0]), ('lk', [2, 0]), ('loko', [1, 0]), ('lookatm', [0, 2]), ('loosu', [1, 0]), ('lord', [0, 1]), ('loser', [1, 0]), ('lotr', [1, 2]), ('lotsli', [1, 0]), ('luci', [0, 2]), ('lul', [1, 0]), ('lunchtim', [1, 0]), ('lunsford', [1, 0]), ('m', [405, 24]), ('macedonia', [0, 1]), ('machin', [1, 0]), ('macleran', [1, 0]), ('madstini', [1, 0]), ('maki', [1, 0]), ('malarki', [1, 0]), ('maniac', [0, 1]), ('manual', [1, 0]), ('mask', [0, 1]), ('maximum', [0, 1]), ('mca', [2, 0]), ('mcr', [1, 0]), ('meaning', [1, 0]), ('meaningless', [1, 0]), ('mentor', [1, 0]), ('mere', [1, 0]), ('method', [1, 0]), ('mg', [0, 1]), ('mileag', [1, 0]), ('milta', [1, 0]), ('minecraft', [1, 0]), ('minu', [1, 0]), ('missionari', [1, 0]), ('missunderstd', [1, 0]), ('mittelschmertz', [1, 0]), ('mjzgroup', [0, 1]), ('ml', [1, 0]), ('mmsto', [0, 1]), ('mobcudb', [0, 1]), ('mone', [1, 0]), ('monoc', [0, 1]), ('mornin', [1, 0]), ('motherfuck', [1, 0]), ('mre', [0, 1]), ('msgrcvd', [0, 1]), ('mtnl', [1, 0]), ('mudyadhu', [1, 0]), ('multimedia', [1, 0]), ('mumbai', [1, 0]), ('mush', [1, 0]), ('mutai', [1, 0]), ('mutat', [1, 0]), ('mypar', [1, 0]), ('myspac', [1, 0]), ('n', [142, 11]), ('nahi', [2, 0]), ('namou', [1, 0]), ('narcot', [1, 0]), ('naseeb', [1, 0]), ('navig', [1, 0]), ('nearbi', [1, 0]), ('neg', [1, 0]), ('neglect', [1, 0]), ('nelson', [1, 0]), ('nevil', [1, 0]), ('nevr', [1, 0]), ('newquay', [1, 0]), ('newscast', [1, 0]), ('nh', [1, 0]), ('niat', [1, 0]), ('nickey', [1, 0]), ('nighter', [1, 0]), ('nightnight', [1, 0]), ('ninish', [1, 0]), ('nino', [1, 0]), ('nitz', [1, 0]), ('nob', [1, 0]), ('nok', [0, 2]), ('non', [1, 0]), ('nonetheless', [1, 0]), ('north', [1, 0]), ('notebook', [1, 0]), ('noworriesloan', [0, 1]), ('nri', [1, 0]), ('ntimat', [1, 0]), ('nurs', [1, 0]), ('nurseri', [1, 0]), ('nuther', [2, 0]), ('o', [16, 2]), ('obedi', [1, 0]), ('obes', [1, 0]), ('obey', [1, 0]), ('object', [1, 0]), ('obl', [1, 0]), ('oclock', [1, 0]), ('offc', [1, 0]), ('ogunrind', [1, 0]), ('oja', [0, 1]), ('olayiwola', [1, 0]), ('ollu', [1, 0]), ('olol', [1, 0]), ('olowoyey', [1, 0]), ('oncal', [0, 1]), ('onum', [1, 0]), ('onword', [1, 0]), ('opponent', [1, 0]), ('oppos', [1, 0]), ('optimist', [1, 0]), ('optin', [0, 1]), ('oral', [1, 0]), ('ore', [1, 0]), ('organ', [1, 0]), ('organis', [1, 0]), ('orig', [0, 2]), ('ortxt', [1, 0]), ('os', [2, 0]), ('ourback', [1, 0]), ('outdoor', [1, 0]), ('outfor', [1, 0]), ('oveabl', [1, 0]), ('overa', [1, 0]), ('overemphasis', [1, 0]), ('ow', [1, 1]), ('owo', [1, 0]), ('oyea', [1, 0]), ('p', [8, 3]), ('pair', [1, 0]), ('pale', [2, 0]), ('papa', [1, 0]), ('paracetamol', [1, 0]), ('paragon', [2, 0]), ('paragraph', [1, 0]), ('paranoid', [1, 0]), ('parchi', [1, 0]), ('particular', [1, 0]), ('pase', [1, 0]), ('passabl', [1, 0]), ('patient', [1, 0]), ('pattern', [2, 0]), ('paus', [0, 1]), ('payasam', [1, 0]), ('payback', [1, 0]), ('peach', [1, 0]), ('pehl', [1, 0]), ('pei', [1, 0]), ('pen', [2, 0]), ('pendent', [1, 0]), ('percent', [1, 0]), ('peril', [1, 0]), ('perman', [1, 0]), ('persev', [1, 0]), ('peski', [1, 0]), ('pest', [1, 0]), ('phase', [1, 0]), ('phd', [1, 0]), ('phil', [1, 0]), ('physic', [1, 0]), ('piggi', [1, 0]), ('pillow', [1, 0]), ('piti', [1, 0]), ('platt', [1, 0]), ('poem', [2, 0]), ('poet', [1, 0]), ('polo', [0, 2]), ('polyc', [0, 1]), ('polyh', [0, 2]), ('ponnungal', [1, 0]), ('poo', [1, 0]), ('pooja', [1, 0]), ('poorli', [1, 0]), ('popcorn', [1, 1]), ('port', [1, 0]), ('posh', [0, 1]), ('postal', [1, 0]), ('pract', [1, 0]), ('practicum', [1, 0]), ('prais', [1, 0]), ('prakesh', [1, 0]), ('prashanthettan', [1, 0]), ('prayer', [1, 0]), ('premarica', [1, 0]), ('prepon', [1, 0]), ('prescrib', [1, 0]), ('prescripiton', [0, 1]), ('presley', [0, 1]), ('pressi', [1, 0]), ('prey', [3, 0]), ('priest', [1, 0]), ('prioriti', [1, 0]), ('privaci', [1, 1]), ('prizeswith', [0, 1]), ('problm', [1, 0]), ('prod', [0, 1]), ('product', [1, 0]), ('profession', [0, 1]), ('proov', [1, 0]), ('prospect', [3, 0]), ('proverb', [2, 0]), ('prsn', [1, 0]), ('ps', [2, 0]), ('pshew', [1, 0]), ('psp', [0, 1]), ('psychiatrist', [1, 0]), ('psychic', [0, 1]), ('psychologist', [1, 0]), ('publish', [1, 0]), ('pudunga', [1, 0]), ('punto', [1, 0]), ('purchas', [2, 3]), ('puzzel', [1, 0]), ('q', [2, 4]), ('qing', [1, 0]), ('qjkgighjjgcbl', [0, 1]), ('qlynnbv', [0, 1]), ('quizz', [1, 0]), ('r', [132, 30]), ('rahul', [1, 0]), ('raja', [1, 0]), ('raksha', [1, 0]), ('ramen', [1, 0]), ('rayan', [1, 0]), ('rcd', [0, 1]), ('rearrang', [1, 0]), ('receivea', [0, 2]), ('recount', [1, 0]), ('reffer', [1, 0]), ('reg', [2, 0]), ('regalportfolio', [0, 1]), ('registr', [1, 0]), ('rel', [2, 0]), ('relationship', [1, 0]), ('religi', [1, 0]), ('reltnship', [1, 0]), ('remb', [1, 0]), ('reset', [1, 0]), ('resid', [1, 0]), ('retir', [1, 0]), ('rgent', [0, 1]), ('ridden', [1, 0]), ('rightio', [1, 0]), ('rimac', [1, 0]), ('ringtonek', [0, 3]), ('rinu', [1, 0]), ('risk', [2, 0]), ('ritten', [1, 0]), ('robinson', [1, 0]), ('roll', [1, 0]), ('rough', [1, 0]), ('rr', [1, 0]), ('rt', [0, 1]), ('ruth', [1, 0]), ('rv', [1, 0]), ('rvx', [1, 0]), ('ryder', [1, 0]), ('s', [478, 90]), ('sac', [2, 0]), ('saibaba', [1, 0]), ('samachara', [1, 0]), ('sambar', [1, 0]), ('samu', [1, 0]), ('santacal', [0, 1]), ('sarasota', [2, 0]), ('scalli', [0, 1]), ('scarcasim', [1, 0]), ('scold', [2, 0]), ('scotland', [2, 1]), ('scrappi', [1, 0]), ('scrumptiou', [1, 0]), ('secondari', [1, 0]), ('seeker', [1, 0]), ('sef', [1, 0]), ('selfish', [2, 0]), ('seper', [1, 0]), ('septemb', [1, 0]), ('server', [1, 0]), ('sexiest', [0, 1]), ('sf', [0, 1]), ('shadow', [1, 0]), ('shangela', [1, 0]), ('shijutta', [1, 0]), ('shitin', [1, 0]), ('shitstorm', [1, 0]), ('shoe', [2, 0]), ('shoulder', [1, 0]), ('shrek', [1, 0]), ('shu', [2, 0]), ('shun', [1, 0]), ('sic', [0, 1]), ('silenc', [2, 0]), ('simul', [1, 0]), ('sindu', [1, 0]), ('singapor', [1, 0]), ('sittin', [1, 0]), ('skill', [0, 1]), ('skin', [0, 1]), ('skinni', [1, 0]), ('sky', [1, 0]), ('skyve', [1, 0]), ('slower', [0, 1]), ('slurp', [1, 0]), ('smaller', [1, 0]), ('smarter', [1, 0]), ('smell', [2, 0]), ('smidgin', [1, 0]), ('snd', [1, 0]), ('snot', [1, 0]), ('snowboard', [1, 0]), ('socht', [1, 0]), ('solihul', [1, 0]), ('someonon', [0, 1]), ('somewhat', [1, 0]), ('somon', [1, 0]), ('sonetim', [1, 0]), ('sopha', [1, 0]), ('soundtrack', [0, 1]), ('souveni', [1, 0]), ('soz', [1, 0]), ('spageddi', [1, 0]), ('spam', [0, 1]), ('spatula', [1, 0]), ('speedchat', [0, 2]), ('spi', [1, 0]), ('spice', [1, 0]), ('spinout', [1, 0]), ('splendid', [1, 0]), ('spoilt', [1, 0]), ('spot', [1, 0]), ('spring', [3, 0]), ('sprint', [1, 0]), ('squid', [1, 0]), ('sr', [1, 0]), ('stagwood', [1, 0]), ('starer', [1, 0]), ('stdtxtrate', [0, 1]), ('steamboat', [1, 0]), ('steer', [1, 0]), ('stewarts', [0, 1]), ('steyn', [1, 0]), ('stick', [2, 0]), ('stifl', [1, 0]), ('stil', [1, 0]), ('stink', [1, 0]), ('stopbcm', [0, 1]), ('stopsm', [0, 2]), ('stoptxtstopa', [0, 1]), ('stream', [0, 1]), ('stressful', [1, 0]), ('strewn', [1, 0]), ('strict', [1, 0]), ('strip', [1, 1]), ('strongli', [1, 0]), ('studdi', [1, 0]), ('studentfinanci', [1, 0]), ('studyn', [1, 0]), ('stun', [1, 0]), ('stylist', [1, 0]), ('subject', [0, 1]), ('subtoitl', [1, 0]), ('sue', [0, 2]), ('sunoco', [1, 0]), ('sunroof', [1, 0]), ('sunscreen', [1, 0]), ('supos', [1, 0]), ('surli', [1, 0]), ('swap', [0, 1]), ('swat', [0, 1]), ('sway', [1, 0]), ('sweatter', [1, 0]), ('swell', [1, 0]), ('swhrt', [1, 0]), ('syd', [1, 0]), ('sympathet', [1, 0]), ('sync', [1, 0]), ('syria', [1, 0]), ('t', [375, 92]), ('taka', [1, 0]), ('talkin', [1, 0]), ('tamilnadu', [1, 0]), ('tantrum', [1, 0]), ('tarpon', [1, 0]), ('tddnewslett', [0, 1]), ('technolog', [1, 0]), ('tendenc', [1, 0]), ('tens', [1, 0]), ('termin', [1, 0]), ('ternal', [1, 0]), ('texa', [1, 0]), ('textand', [0, 1]), ('tgxxrz', [0, 1]), ('thanku', [1, 0]), ('thankyou', [1, 0]), ('thatmum', [1, 0]), ('thedailydraw', [0, 1]), ('theseday', [1, 0]), ('thesi', [2, 0]), ('thesmszon', [0, 1]), ('thet', [1, 0]), ('thkin', [1, 0]), ('tiempo', [1, 0]), ('tiger', [0, 1]), ('tightli', [1, 0]), ('tirunelvai', [1, 0]), ('tix', [1, 0]), ('tke', [1, 0]), ('tkl', [0, 1]), ('tmrw', [2, 0]), ('tmw', [1, 0]), ('tobacco', [1, 0]), ('tobe', [1, 0]), ('toke', [1, 0]), ('toler', [1, 0]), ('toothpast', [1, 0]), ('tootsi', [1, 0]), ('tor', [1, 0]), ('toss', [1, 0]), ('tote', [1, 0]), ('toyota', [1, 0]), ('trackmarqu', [0, 1]), ('tram', [1, 0]), ('transfr', [3, 0]), ('trek', [1, 0]), ('trial', [0, 1]), ('triumph', [1, 0]), ('troubleshoot', [1, 0]), ('truro', [1, 0]), ('tui', [1, 0]), ('tul', [1, 0]), ('tund', [1, 0]), ('tunji', [1, 0]), ('turkey', [1, 0]), ('twink', [0, 1]), ('txtstar', [0, 1]), ('typic', [1, 0]), ('u', [1056, 174]), ('uawak', [1, 0]), ('ubandu', [1, 0]), ('ud', [1, 0]), ('ugo', [1, 0]), ('ukp', [0, 1]), ('ultimatum', [2, 0]), ('uncount', [1, 0]), ('underwear', [2, 0]), ('undrstnd', [1, 0]), ('unev', [1, 0]), ('uniform', [1, 0]), ('unlik', [1, 0]), ('unrecogn', [1, 0]), ('urgh', [1, 0]), ('urgoin', [1, 0]), ('useless', [1, 0]), ('uteru', [1, 0]), ('uv', [1, 0]), ('v', [50, 5]), ('varunnathu', [1, 0]), ('veggi', [1, 0]), ('velli', [1, 0]), ('velusami', [1, 0]), ('venaam', [1, 0]), ('vic', [1, 0]), ('victor', [1, 0]), ('vivek', [2, 0]), ('volcano', [1, 0]), ('w', [14, 3]), ('wahala', [1, 0]), ('wahay', [1, 0]), ('waheeda', [1, 0]), ('wallet', [1, 0]), ('waqt', [1, 0]), ('warwick', [1, 0]), ('washob', [1, 0]), ('wasnt', [1, 0]), ('watevr', [1, 0]), ('watr', [1, 0]), ('wellda', [1, 0]), ('weren', [1, 0]), ('wetherspoon', [1, 0]), ('whatsup', [2, 0]), ('wheel', [1, 0]), ('wheellock', [1, 0]), ('whenevr', [3, 0]), ('wherevr', [1, 0]), ('whr', [2, 0]), ('wicket', [1, 0]), ('wild', [0, 1]), ('windi', [1, 0]), ('winterston', [1, 0]), ('wishlist', [1, 0]), ('withdraw', [1, 0]), ('wlcome', [1, 0]), ('wo', [2, 0]), ('woah', [1, 0]), ('woken', [2, 0]), ('wondarful', [1, 0]), ('woo', [1, 0]), ('wood', [0, 1]), ('woould', [1, 0]), ('woozl', [1, 0]), ('worm', [1, 0]), ('woul', [1, 0]), ('wreck', [1, 0]), ('wrkin', [1, 0]), ('x', [44, 11]), ('xxmobilemovieclub', [0, 2]), ('y', [46, 0]), ('yah', [1, 0]), ('yifeng', [1, 0]), ('yowif', [1, 0]), ('ything', [1, 0]), ('yuou', [1, 0]), ('z', [1, 0]), ('zac', [1, 0]), ('zhong', [1, 0]), ('zindgi', [2, 0]), ('zoe', [1, 1]), ('zyada', [1, 0])]\n"
     ]
    }
   ],
   "source": [
    "# Get an list of all words that were dropped by the model\n",
    "dropped = []\n",
    "\n",
    "for i in stats.items():\n",
    "    if i[0] not in names:\n",
    "        dropped.append(i)\n",
    "        \n",
    "print(len(dropped))\n",
    "print(sorted(dropped))"
   ]
  },
  {
   "cell_type": "code",
   "execution_count": null,
   "id": "d98082ff-4157-422b-90a3-aafdea5aeaba",
   "metadata": {},
   "outputs": [],
   "source": []
  }
 ],
 "metadata": {
  "kernelspec": {
   "display_name": "Python 3 (ipykernel)",
   "language": "python",
   "name": "python3"
  },
  "language_info": {
   "codemirror_mode": {
    "name": "ipython",
    "version": 3
   },
   "file_extension": ".py",
   "mimetype": "text/x-python",
   "name": "python",
   "nbconvert_exporter": "python",
   "pygments_lexer": "ipython3",
   "version": "3.9.7"
  }
 },
 "nbformat": 4,
 "nbformat_minor": 5
}
