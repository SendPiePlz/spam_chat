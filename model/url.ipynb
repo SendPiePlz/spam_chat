{
 "cells": [
  {
   "cell_type": "markdown",
   "id": "41489c71-607a-4412-98b5-364550d3978e",
   "metadata": {
    "tags": []
   },
   "source": [
    "# URL Classification\n",
    "\n",
    "+ https://machinelearningmastery.com/naive-bayes-classifier-scratch-python/\n",
    "+ https://towardsdatascience.com/naive-bayes-classifier-from-scratch-with-python-942708211470\n",
    "+ https://scikit-learn.org/stable/modules/naive_bayes.html\n",
    "+ https://github.com/japborst/dart_stemmer/blob/master/lib/PorterStemmer.dart\n",
    "+ https://tartarus.org/martin/PorterStemmer/\n",
    "+ https://www.kaggle.com/datasets/taruntiwarihp/phishing-site-urls\n",
    "+ https://www.kaggle.com/datasets/akashkr/phishing-website-dataset\n",
    "+ https://www.kaggle.com/datasets/sandunabeysooriya/phishing-detection-dataset\n",
    "+ https://www.youtube.com/watch?v=O2L2Uv9pdDA\n",
    "+ https://www.kaggle.com/code/tylersullivan/classifying-phishing-urls-three-models\n",
    "+ https://towardsdatascience.com/how-i-was-using-naive-bayes-incorrectly-till-now-part-1-4ed2a7e2212b\n",
    "+ https://towardsdatascience.com/why-how-to-use-the-naive-bayes-algorithms-in-a-regulated-industry-with-sklearn-python-code-dbd8304ab2cf\n",
    "+ https://towardsdatascience.com/all-you-need-to-know-about-bag-of-words-and-word2vec-text-feature-extraction-e386d9ed84aa\n",
    "+ https://towardsdatascience.com/text-normalization-7ecc8e084e31\n",
    "+ https://medium.com/analytics-vidhya/how-to-build-a-lemmatizer-7aeff7a1208c"
   ]
  },
  {
   "cell_type": "code",
   "execution_count": 1,
   "id": "e48a72be-2083-4b03-8514-eae69ca3bba4",
   "metadata": {},
   "outputs": [],
   "source": [
    "import numpy as np\n",
    "import pandas as pd\n",
    "\n",
    "from sklearn import metrics\n",
    "from sklearn.model_selection import train_test_split\n",
    "from sklearn.pipeline import Pipeline\n",
    "from sklearn.tree import DecisionTreeClassifier, export_graphviz\n",
    "from sklearn.linear_model import SGDClassifier\n",
    "from sklearn.naive_bayes import MultinomialNB, ComplementNB\n",
    "\n",
    "import matplotlib.pyplot as plt\n",
    "%matplotlib inline"
   ]
  },
  {
   "cell_type": "markdown",
   "id": "90f8ba19-c367-4c4f-8023-9e8b127aeed6",
   "metadata": {
    "tags": []
   },
   "source": [
    "## Data Import and Cleaning\n",
    "\n",
    "__Features of interest:__\n",
    "+ Length\n",
    "+ Number of dots\n",
    "+ Number of sub-paths `/`\n",
    "+ Usage of shortening services\n",
    "+ Usage of symbols, such as `@`, `?`, `//`\n",
    "+ Using `http` or `https`\n",
    "+ Domain (`.gov`, `.com`, etc.)\n",
    "+ Is IP address"
   ]
  },
  {
   "cell_type": "code",
   "execution_count": 2,
   "id": "f6694680-03c4-4c68-87f8-6fcba4689d7e",
   "metadata": {},
   "outputs": [
    {
     "name": "stdout",
     "output_type": "stream",
     "text": [
      "                                                      URL  Label\n",
      "0       nobell.it/70ffb52d079109dca5664cce6f317373782/...      1\n",
      "1       www.dghjdgf.com/paypal.co.uk/cycgi-bin/webscrc...      1\n",
      "2       serviciosbys.com/paypal.cgi.bin.get-into.herf....      1\n",
      "3       mail.printakid.com/www.online.americanexpress....      1\n",
      "4       thewhiskeydregs.com/wp-content/themes/widescre...      1\n",
      "...                                                   ...    ...\n",
      "549243                                    23.227.196.215/      1\n",
      "549244                                 apple-checker.org/      1\n",
      "549245                                  apple-iclods.org/      1\n",
      "549246                                 apple-uptoday.org/      1\n",
      "549247                                  apple-search.info      1\n",
      "\n",
      "[549248 rows x 2 columns]\n"
     ]
    }
   ],
   "source": [
    "data = pd.read_csv(\"./data/phishing_site_urls.csv\", encoding=\"utf-8\")\n",
    "data[\"Label\"].replace(to_replace=\"bad\", value=1, inplace=True)\n",
    "data[\"Label\"].replace(to_replace=\"good\", value=0, inplace=True)\n",
    "\n",
    "print(data)\n",
    "# print(data.info())"
   ]
  },
  {
   "cell_type": "code",
   "execution_count": 3,
   "id": "dc5929bf-8599-4b45-aa0c-d429d87db5f8",
   "metadata": {},
   "outputs": [
    {
     "data": {
      "image/png": "[encoded data removed]",
      "text/plain": [
       "<Figure size 640x480 with 1 Axes>"
      ]
     },
     "metadata": {},
     "output_type": "display_data"
    }
   ],
   "source": [
    "sizes = [data[data[\"Label\"] == 0].shape[0]\n",
    "        ,data[data[\"Label\"] == 1].shape[0]\n",
    "        ]\n",
    "\n",
    "fig1, ax1 = plt.subplots()\n",
    "ax1.pie(sizes, labels=[\"good\", \"bad\"], autopct='%1.1f%%')\n",
    "plt.show()"
   ]
  },
  {
   "cell_type": "code",
   "execution_count": 42,
   "id": "89c52b8e-7271-4e9c-9e00-2355c127a30b",
   "metadata": {},
   "outputs": [
    {
     "name": "stdout",
     "output_type": "stream",
     "text": [
      "        %  .   /  //  :  ?  @  ip  lenA  lenP  JUNK  LONG  NUM  OTHER  SMALL  \\\n",
      "0       0  6  10   0  0  1  0   0     9   216     1     0    4      2     12   \n",
      "1       0  5   4   0  0  0  0   0    15    66     2     0    1      0      7   \n",
      "2       0  7  10   0  0  0  0   0    16   160     0     0    0      2      4   \n",
      "3       0  6   2   0  0  0  0   0    18    42     1     0    0      0      3   \n",
      "4       0  1   9   1  0  1  0   0    19    96     0     0    1      1      2   \n",
      "...    .. ..  ..  .. .. .. ..  ..   ...   ...   ...   ...  ...    ...    ...   \n",
      "549243  0  3   0   0  0  0  0   1    14     0     0     0    4      0      0   \n",
      "549244  0  1   0   0  0  0  0   0    17     0     1     0    0      0      1   \n",
      "549245  0  1   0   0  0  0  0   0    16     0     1     0    0      0      1   \n",
      "549246  0  1   0   0  0  0  0   0    17     0     1     0    0      0      1   \n",
      "549247  0  1   0   0  0  0  0   0    17     0     2     0    0      0      0   \n",
      "\n",
      "        WORD  \n",
      "0         13  \n",
      "1          5  \n",
      "2         13  \n",
      "3          5  \n",
      "4          7  \n",
      "...      ...  \n",
      "549243     0  \n",
      "549244     1  \n",
      "549245     1  \n",
      "549246     1  \n",
      "549247     1  \n",
      "\n",
      "[549248 rows x 16 columns]\n"
     ]
    }
   ],
   "source": [
    "import re\n",
    "from collections import Counter\n",
    "\n",
    "ip_re = re.compile(r\"^\\d{1,3}\\.\\d{1,3}\\.\\d{1,3}\\.\\d{1,3}(:\\d{1,5})?$\")\n",
    "hexa_re = re.compile(r\"^[0-9a-f]+$\")\n",
    "split_re = re.compile(r\"\\W|[_\\-]\")\n",
    "\n",
    "#----------------------------#\n",
    "\n",
    "vowels = {'a','e','i','o','u','y'}\n",
    "\n",
    "# assumes lowercase and w.isalpha() is True\n",
    "def readable(w: str) -> bool:\n",
    "    tl, nb = 0, 0\n",
    "    i, cs  = 0, 1\n",
    "    while i < len(w):\n",
    "        cs = 1\n",
    "        v  = w[i] in vowels\n",
    "        i += 1\n",
    "        while i < len(w) and (w[i] in vowels) == v:\n",
    "            cs += 1\n",
    "            i  += 1\n",
    "        if cs > 2:\n",
    "           nb += 1\n",
    "        tl += 1\n",
    "    return (nb / tl) < 0.2\n",
    "\n",
    "#----------------------------#\n",
    "    \n",
    "# Remove parsing artifacts (won't be needed for the real thing)\n",
    "def cleanURL(url: str) -> str:\n",
    "    s, e = 0, len(url)\n",
    "    qs = [\"'\", '\"']\n",
    "    if url[0] in qs:\n",
    "        s = 1\n",
    "    if url[-1] in qs:\n",
    "        e -= 1\n",
    "    if url[e-1] == '/':\n",
    "        e -= 1\n",
    "    return url[s:e]\n",
    "\n",
    "#----------------------------#\n",
    "\n",
    "def getPathStart(url: str) -> tuple:\n",
    "    i = 0\n",
    "    while i < len(url) and url[i] != '/': i+=1\n",
    "    return i\n",
    "\n",
    "#----------------------------#\n",
    "\n",
    "def categorize(w: str) -> str:\n",
    "    if w.isdigit():\n",
    "        return 'NUM'\n",
    "    if not w.isalpha():\n",
    "        return 'OTHER'\n",
    "    if len(w) < 4:\n",
    "        return 'SMALL'\n",
    "    if not readable(w):\n",
    "        return 'JUNK'\n",
    "    if len(w) > 15:\n",
    "        return 'LONG'\n",
    "    else:\n",
    "        return 'WORD'\n",
    "\n",
    "#----------------------------#\n",
    "\n",
    "# Extract properties and features from URL\n",
    "def processURL(url: str) -> list:\n",
    "    curl = cleanURL(url)\n",
    "    ps = getPathStart(curl)\n",
    "    ts = Counter([categorize(t.lower()) for t in split_re.split(curl) if len(t) > 0])\n",
    "    return [ curl.count('%')\n",
    "           , curl.count('.')\n",
    "           , curl.count('/')\n",
    "           , curl.count('//')\n",
    "           , curl.count(':')\n",
    "           , curl.count('?')\n",
    "           , curl.count('@')\n",
    "           , int(ip_re.search(curl[:ps]) != None)\n",
    "           , ps\n",
    "           , len(curl)-ps\n",
    "           , ts['JUNK']\n",
    "           , ts['LONG']\n",
    "           , ts['NUM']\n",
    "           , ts['OTHER']\n",
    "           , ts['SMALL']\n",
    "           , ts['WORD']\n",
    "           ]\n",
    "\n",
    "#==========================================#\n",
    "\n",
    "cs = ['%','.','/','//',':','?','@','ip','lenA','lenP','JUNK','LONG','NUM','OTHER','SMALL','WORD']\n",
    "vs = pd.DataFrame(data[\"URL\"].map(processURL).to_list(), columns=cs)\n",
    "\n",
    "print(vs)"
   ]
  },
  {
   "cell_type": "code",
   "execution_count": 53,
   "id": "a6e48caa-45b0-4a04-bfaf-9850a1197598",
   "metadata": {},
   "outputs": [
    {
     "name": "stdout",
     "output_type": "stream",
     "text": [
      "['SMALL', 'LONG', 'SMALL', 'WORD', 'SMALL', 'JUNK', 'WORD', 'SMALL']\n",
      "[0, 3, 3, 0, 0, 0, 0, 0, 29, 30, 1, 1, 0, 0, 4, 2]\n"
     ]
    }
   ],
   "source": [
    "expl = \"www.henkdeinumboomkwekerij.nl/language/pdf_fonts/smiles.php\"\n",
    "\n",
    "print([categorize(t.lower()) for t in split_re.split(expl) if len(t) > 0])\n",
    "print(processURL(expl))"
   ]
  },
  {
   "cell_type": "markdown",
   "id": "04d06656-1d07-4928-a04c-fc6fba8c5586",
   "metadata": {},
   "source": [
    "## Training and Testing\n",
    "\n"
   ]
  },
  {
   "cell_type": "code",
   "execution_count": 44,
   "id": "f9f92397-2a60-48c0-a277-7ec85646cc27",
   "metadata": {},
   "outputs": [],
   "source": [
    "trainX, testX, trainY, testY = train_test_split(vs, data.Label, test_size=0.3, random_state=0)"
   ]
  },
  {
   "cell_type": "code",
   "execution_count": 45,
   "id": "20a51a4f-fb45-4887-a56e-a62bd9d3aefe",
   "metadata": {},
   "outputs": [
    {
     "name": "stdout",
     "output_type": "stream",
     "text": [
      "              precision    recall  f1-score   support\n",
      "\n",
      "        good       0.77      0.93      0.84    118073\n",
      "         bad       0.63      0.32      0.42     46702\n",
      "\n",
      "    accuracy                           0.75    164775\n",
      "   macro avg       0.70      0.62      0.63    164775\n",
      "weighted avg       0.73      0.75      0.72    164775\n",
      "\n"
     ]
    }
   ],
   "source": [
    "mnb = MultinomialNB()\n",
    "mnb.fit(trainX, trainY)\n",
    "\n",
    "pred = mnb.predict(testX)\n",
    "print(metrics.classification_report(testY, pred, target_names=['good','bad']))"
   ]
  },
  {
   "cell_type": "code",
   "execution_count": 46,
   "id": "f76b5fbc-fda7-4993-bba4-ae022b9a35ad",
   "metadata": {},
   "outputs": [
    {
     "name": "stdout",
     "output_type": "stream",
     "text": [
      "              precision    recall  f1-score   support\n",
      "\n",
      "        good       0.81      0.82      0.81    118073\n",
      "         bad       0.52      0.51      0.51     46702\n",
      "\n",
      "    accuracy                           0.73    164775\n",
      "   macro avg       0.66      0.66      0.66    164775\n",
      "weighted avg       0.73      0.73      0.73    164775\n",
      "\n"
     ]
    }
   ],
   "source": [
    "cnb = ComplementNB()\n",
    "cnb.fit(trainX, trainY)\n",
    "\n",
    "pred = cnb.predict(testX)\n",
    "print(metrics.classification_report(testY, pred, target_names=['good','bad']))"
   ]
  },
  {
   "cell_type": "code",
   "execution_count": 55,
   "id": "9c26d027-69a0-4640-a5bc-a74ae1001731",
   "metadata": {},
   "outputs": [
    {
     "name": "stdout",
     "output_type": "stream",
     "text": [
      "12665\n",
      "              precision    recall  f1-score   support\n",
      "\n",
      "        good       0.90      0.95      0.92    118073\n",
      "         bad       0.84      0.72      0.78     46702\n",
      "\n",
      "    accuracy                           0.88    164775\n",
      "   macro avg       0.87      0.83      0.85    164775\n",
      "weighted avg       0.88      0.88      0.88    164775\n",
      "\n"
     ]
    }
   ],
   "source": [
    "dt = DecisionTreeClassifier(random_state=0, max_depth=len(cs))\n",
    "dt.fit(trainX, trainY)\n",
    "\n",
    "pred = dt.predict(testX)\n",
    "print(dt.tree_.node_count)\n",
    "print(metrics.classification_report(testY, pred, target_names=['good','bad']))"
   ]
  },
  {
   "cell_type": "code",
   "execution_count": 48,
   "id": "dda133e3-62b6-4f2e-b9fe-ef5f2d7f7a4c",
   "metadata": {},
   "outputs": [
    {
     "name": "stdout",
     "output_type": "stream",
     "text": [
      "              precision    recall  f1-score   support\n",
      "\n",
      "        good       0.76      0.99      0.86    118073\n",
      "         bad       0.84      0.19      0.32     46702\n",
      "\n",
      "    accuracy                           0.76    164775\n",
      "   macro avg       0.80      0.59      0.59    164775\n",
      "weighted avg       0.78      0.76      0.70    164775\n",
      "\n"
     ]
    }
   ],
   "source": [
    "svm = SGDClassifier(loss='hinge', penalty='l2', alpha=1e-3, random_state=0, max_iter=5, tol=None)\n",
    "svm.fit(trainX, trainY)\n",
    "\n",
    "pred = svm.predict(testX)\n",
    "print(metrics.classification_report(testY, pred, target_names=['good','bad']))"
   ]
  },
  {
   "cell_type": "markdown",
   "id": "d699cfea-2cc3-4ff3-8955-1fe8fffc93d3",
   "metadata": {
    "tags": []
   },
   "source": [
    "---\n",
    "## Post-Processing\n",
    "\n",
    "+ Node Pruning\n",
    "+ Function Pruning\n",
    "+ Code generation"
   ]
  },
  {
   "cell_type": "code",
   "execution_count": 49,
   "id": "0cd04e49-9b49-4e2c-ae31-c46f147c4fa0",
   "metadata": {},
   "outputs": [
    {
     "name": "stdout",
     "output_type": "stream",
     "text": [
      "              precision    recall  f1-score   support\n",
      "\n",
      "        good       0.90      0.95      0.92    118073\n",
      "         bad       0.84      0.72      0.78     46702\n",
      "\n",
      "    accuracy                           0.88    164775\n",
      "   macro avg       0.87      0.83      0.85    164775\n",
      "weighted avg       0.88      0.88      0.88    164775\n",
      "\n"
     ]
    }
   ],
   "source": [
    "# Prune redundant branches\n",
    "# https://stackoverflow.com/a/68660641\n",
    "\n",
    "from sklearn.tree._tree import TREE_LEAF, TREE_UNDEFINED\n",
    "\n",
    "def is_leaf(inner_tree, index):\n",
    "    # Check whether node is leaf node\n",
    "    return (inner_tree.children_left[index] == TREE_LEAF and \n",
    "            inner_tree.children_right[index] == TREE_LEAF)\n",
    "\n",
    "def prune_index(inner_tree, decisions, index=0):\n",
    "    # Start pruning from the bottom - if we start from the top, we might miss\n",
    "    # nodes that become leaves during pruning.\n",
    "    # Do not use this directly - use prune_duplicate_leaves instead.\n",
    "    if not is_leaf(inner_tree, inner_tree.children_left[index]):\n",
    "        prune_index(inner_tree, decisions, inner_tree.children_left[index])\n",
    "    if not is_leaf(inner_tree, inner_tree.children_right[index]):\n",
    "        prune_index(inner_tree, decisions, inner_tree.children_right[index])\n",
    "\n",
    "    # Prune children if both children are leaves now and make the same decision:     \n",
    "    if (is_leaf(inner_tree, inner_tree.children_left[index]) and\n",
    "        is_leaf(inner_tree, inner_tree.children_right[index]) and\n",
    "        (decisions[index] == decisions[inner_tree.children_left[index]]) and \n",
    "        (decisions[index] == decisions[inner_tree.children_right[index]])):\n",
    "        # turn node into a leaf by \"unlinking\" its children\n",
    "        inner_tree.children_left[index] = TREE_LEAF\n",
    "        inner_tree.children_right[index] = TREE_LEAF\n",
    "        inner_tree.feature[index] = TREE_UNDEFINED\n",
    "        ##print(\"Pruned {}\".format(index))\n",
    "\n",
    "def prune_duplicate_leaves(mdl):\n",
    "    # Remove leaves if both \n",
    "    decisions = mdl.tree_.value.argmax(axis=2).flatten().tolist() # Decision for each node\n",
    "    prune_index(mdl.tree_, decisions)\n",
    "    \n",
    "prune_duplicate_leaves(dt)\n",
    "\n",
    "# Test to make sure we didn't create problems\n",
    "pred = dt.predict(testX)\n",
    "print(metrics.classification_report(testY, pred, target_names=['good','bad']))"
   ]
  },
  {
   "cell_type": "code",
   "execution_count": 50,
   "id": "75fa09e9-3b92-4dfd-b60f-91b7e1897247",
   "metadata": {
    "scrolled": true,
    "tags": []
   },
   "outputs": [
    {
     "name": "stdout",
     "output_type": "stream",
     "text": [
      "1284\n",
      "[((8, 10), [17, 1788, 2065, 2489, 2969, 3140, 3153, 5516, 6266, 6900, 7214, 8762]), ((1, 0), [41, 158, 1569, 6348]), ((15, 2), [52, 4400, 4519, 4587, 4753, 6151, 7937, 8140, 9822, 9958, 11016, 11629]), ((9, 7), [66, 361, 6637, 6788, 6985]), ((9, 10), [72, 7225, 7271, 7279, 7283, 7346, 7570, 7704]), ((8, 23), [95, 923, 1346, 1438, 1713, 1854, 2349, 2820, 5455, 7141, 10213]), ((8, 29), [106, 646]), ((8, 16), [115, 595, 616, 1534, 3851, 5818, 5877, 7543, 9117]), ((8, 24), [150, 1449, 2918, 4135, 4748, 5408, 5840, 6625, 7297, 9790, 11195]), ((8, 12), [190, 3118, 4021, 7701, 11265, 11386, 11974]), ((10, 1), [228, 1250, 1894, 2636, 4212, 5502, 6860, 7838, 7985, 8936, 9218, 9232, 9530, 10444, 10549, 10792, 10800, 11407, 11410, 11486, 11622, 12447]), ((1, 1), [269, 964, 1400, 1411, 2191, 2195, 3689, 3809, 5689, 5706, 5724, 7628, 9985, 10047, 10167, 10299, 10608]), ((15, 3), [297, 777, 2319, 2858, 3056, 3484, 3512, 4481, 8250, 8806, 10642, 10761, 10929, 11067, 11128, 11760]), ((8, 19), [333, 1282, 3358, 4104, 9235, 9917, 12122]), ((8, 7), [336, 2407, 7871, 8703]), ((9, 4), [377, 585, 3873]), ((8, 17), [380, 1221, 3382, 3546, 3557, 5912, 7562, 9282, 9652, 9727, 10303, 10393]), ((9, 6), [387, 6602, 6905, 6924, 7107]), ((15, 0), [430, 665, 1364, 1793, 8013, 8642, 9056, 9155, 9562, 9748, 11593, 12542]), ((1, 2), [437, 712, 1069, 2135, 2493, 2690, 3322, 3646, 5729, 5945, 6852, 7741]), ((8, 20), [451, 1180, 2937, 3672, 3832, 4949, 6043, 6208, 7098, 9266, 9995, 11558]), ((8, 6), [462, 1010, 2102, 3003, 5611, 5616, 6393, 7181, 8398]), ((8, 13), [519, 2529, 3764, 3971, 6570, 6973, 7325, 9589, 10461, 11728]), ((9, 13), [529, 846, 990]), ((10, 0), [543, 656, 821, 867, 1298, 1647, 2465, 2902, 2961, 3339, 3798, 4533, 4808, 5635, 6104, 6947, 8003, 8053, 8229, 8918, 9714, 11523]), ((8, 5), [592, 1473]), ((11, 0), [702, 1218, 1525, 3595, 3718, 4812, 4904, 8083, 8561, 9098, 9113, 9223, 9256, 9481, 9491, 10197, 10250, 11900]), ((14, 2), [730, 835, 913, 930, 1052, 1259, 1503, 1698, 1800, 2091, 3586, 3864, 4189, 6145, 6325, 7416, 8069, 8404, 9498, 9583, 9893, 10449, 10533, 11002]), ((8, 33), [748, 5852, 5871]), ((9, 11), [770, 787, 2218, 4658]), ((8, 31), [774, 2259]), ((15, 1), [853, 1112, 1837, 3757, 3956, 4085, 4674, 5103, 6071, 6131, 6163, 6186, 6752, 7805, 7970, 8414, 11419, 11545, 11678, 11798, 11811]), ((15, 4), [895, 2209, 2676, 2775, 3418, 4294, 8594, 8752, 10377, 12622]), ((8, 30), [955, 9568]), ((14, 3), [984, 2573, 3173, 4024, 4443, 4785, 4942, 6996, 7110, 7677, 8242, 8542, 9124, 9378, 10157, 11470, 11896]), ((8, 4), [1001, 1014]), ((8, 14), [1075, 2205, 2906, 4468, 4489, 9041]), ((9, 19), [1128, 1330, 2124, 5094]), ((9, 20), [1161, 1226, 3937, 4524, 9341, 9446]), ((9, 18), [1196, 2756, 4714, 9206]), ((9, 17), [1305, 3940, 4005, 4476, 4839]), ((2, 1), [1508, 1784, 1923, 3978, 4065, 4116, 4405, 5110, 6451, 7189, 7737, 8060, 9053, 9777, 9840, 9869]), ((8, 8), [1539, 2182, 2922, 8136]), ((14, 1), [1554, 2472, 2784, 5604, 5681, 6084, 6567, 6679, 6777, 6848, 7884, 8500, 8564, 8626, 9454, 10409]), ((9, 30), [1622, 2624, 3026, 8539]), ((10, 3), [1628, 3560, 8926, 10517, 12179]), ((9, 39), [1668, 2427]), ((14, 5), [1705, 2486, 2945, 3543, 4607, 8108, 8239, 12076, 12264]), ((14, 4), [1708, 2110, 2612, 2650, 2698, 2711, 3092, 7683, 8256, 9550, 10222, 10471, 11641, 12196, 12550]), ((9, 25), [1731, 1850]), ((9, 26), [1754, 2394, 4261]), ((15, 7), [1764, 3113, 8281]), ((9, 31), [1775, 2423, 2541, 3287, 8017]), ((15, 10), [1844, 10560]), ((9, 24), [1863, 1955, 2277]), ((9, 22), [1910, 2085, 2222, 7961, 9407]), ((11, 1), [1969, 2988, 9476, 11991, 12312]), ((9, 59), [1982, 2982, 3309, 12009]), ((8, 9), [2003, 7900, 11255]), ((9, 15), [2034, 10961, 11131]), ((8, 11), [2164, 2179, 7909, 7919, 7926, 11685]), ((2, 3), [2225, 4985, 8369, 9303, 10772, 11022, 11271, 11704, 12166]), ((8, 21), [2263, 4778, 5025, 5338, 7765, 9067, 9299, 11749]), ((8, 35), [2316, 4711]), ((15, 5), [2657, 3187, 3397, 4318, 4739, 5423, 8290, 10428, 12149, 12430]), ((9, 108), [2726, 12325]), ((8, 27), [2830, 3400, 3779, 7546]), ((9, 33), [2843, 4861]), ((1, 3), [2849, 3506, 11379, 11393, 12273]), ((9, 46), [2874, 8161]), ((9, 38), [2880, 3181, 3302, 4570, 5129]), ((10, 2), [2949, 3521, 4360, 5218, 8674, 9597, 9961, 10346, 10499, 11306, 11764, 12066]), ((8, 22), [2977, 3515, 5193, 5822, 7103, 7129]), ((15, 9), [2985, 4503, 8850, 12244, 12521]), ((9, 41), [3013, 4600, 10616]), ((14, 6), [3129, 10577, 10947, 10983, 11531, 11731]), ((9, 70), [3191, 11701]), ((9, 48), [3224, 4865, 8602]), ((2, 6), [3233, 10241, 10435, 11401]), ((9, 73), [3249, 9707]), ((9, 47), [3328, 4882, 8455]), ((15, 6), [3579, 11181]), ((14, 0), [3953, 5994, 6142, 7483, 9767, 10017]), ((8, 25), [4076, 5863, 6059, 9421, 9527, 11318]), ((5, 0), [4097, 6467, 6577, 6669, 7554, 8100, 8105, 8164, 8827, 9449, 11013, 11033, 11775]), ((8, 18), [4175, 6216, 7041, 10288, 10380, 12490]), ((9, 56), [4499, 4537, 5429]), ((9, 23), [4542, 4666, 5245, 10385, 11029]), ((12, 2), [4573, 4719, 7146, 8113, 10023, 10636, 11816]), ((15, 8), [4684, 8287, 8914, 10811]), ((2, 2), [4759, 5221, 9473, 10967, 11497, 12132]), ((9, 79), [4856, 10480]), ((1, 7), [5038, 11598]), ((9, 21), [5214, 11207]), ((2, 4), [5291, 5399, 11278]), ((8, 15), [5333, 5473, 6195, 7022, 9296, 10467, 12058]), ((9, 42), [5405, 8698, 10659]), ((12, 0), [5433, 6107, 6134, 6662, 6696, 6912, 7439, 7527, 8024, 8194, 8975, 9159, 9188, 9763, 10042, 10915, 11459, 11636, 11836, 12211, 12350, 12357, 12403]), ((9, 3), [6009, 6298]), ((9, 8), [6381, 6643, 6708, 6722, 6942]), ((13, 1), [6767, 6793, 6809, 8261, 8320, 8970, 10238, 11914]), ((8, 26), [6872, 10485, 11424]), ((0, 0), [7533, 8133, 8354, 9504, 9513, 9521, 9675, 10400, 10856, 10970, 11339, 11626, 12055, 12111]), ((9, 12), [7912, 8953, 11125]), ((12, 1), [8020, 8419, 10676, 10718, 10757, 11055, 11366, 11479, 11553, 11846, 12169]), ((0, 1), [8050, 11674, 12536]), ((4, 1), [8092, 11858]), ((9, 27), [8153, 10883]), ((9, 76), [8175, 10272]), ((9, 28), [8305, 11327]), ((9, 49), [8515, 11509]), ((9, 32), [8573, 9322, 9622]), ((13, 4), [8662, 10455, 11655, 12364]), ((13, 2), [8731, 9687, 9850]), ((13, 5), [8789, 8921, 10228]), ((9, 100), [9700, 12292]), ((4, 0), [10247, 11074, 12354]), ((0, 3), [10573, 10833]), ((9, 51), [10668, 10932]), ((12, 4), [10705, 12607]), ((9, 36), [11398, 11452]), ((9, 75), [12415, 12515]), ((8, 22), [48, 1611, 2942, 5884, 7797, 12393]), ((1, 2), [100, 832, 884, 1041, 1213, 2510, 2586, 2816, 2833, 3198, 3636, 5929, 7330]), ((11, 0), [120, 315, 407, 760, 1262, 2739, 3447, 4555, 4771, 4929, 9385, 9632, 10004, 10363, 11200, 12037, 12277, 12475]), ((9, 15), [132, 10863]), ((8, 13), [138, 487, 1735, 5138, 10121]), ((8, 20), [198, 2864, 5351, 5770, 6027, 7072, 9461, 10194]), ((6, 0), [201, 1037, 4376, 4419, 4850, 8340, 8439, 10032, 10900, 10942, 11258, 11919, 11977, 12018]), ((10, 1), [208, 419, 2749, 3257, 7954, 8605, 8653, 8693, 8768, 9368, 9611, 10360, 11819]), ((2, 1), [354, 1558, 1772, 1914, 3929, 4034, 4055, 4073, 4092, 4414, 5202, 6231, 6416, 7075, 7730, 7887, 8037, 8795, 8835, 8864, 9082, 9373, 9516, 9538, 9665, 9784, 9843, 9887, 10080, 10084, 11176, 12560]), ((9, 5), [369, 3732]), ((8, 10), [372, 3711, 3794, 3990, 7596, 8529, 8876]), ((10, 2), [401, 734, 767, 1931, 2280, 11540]), ((5, 0), [423, 525, 800, 856, 1830, 1872, 1988, 4291, 4334, 4529, 4627, 4901, 5001, 5468, 5575, 5957, 7516, 7618, 7897, 8222, 8302, 8380, 8854, 9201, 9334, 9391, 10182, 10282, 10524, 10702, 11281, 11861, 11881, 11998, 12487, 12578]), ((9, 18), [477, 1105, 1118, 2148, 5234, 9137, 11295]), ((8, 37), [492, 7537]), ((8, 7), [509, 2132, 2363, 8611, 8707]), ((8, 15), [512, 5800, 10509, 11112, 11619]), ((9, 19), [546, 1144, 2079, 4152]), ((10, 0), [577, 1191, 1575, 1976, 2140, 3739, 6097, 6228, 6328, 11793, 12589]), ((14, 2), [604, 639, 899, 1810, 2307, 2701, 2769, 3878, 3985, 3997, 4424, 4643, 7413, 8327, 8343, 9403, 10128, 10170, 10587, 12214]), ((8, 43), [611, 2891, 12494]), ((9, 3), [672, 5811]), ((14, 3), [681, 817, 1138, 1881, 2016, 2155, 2563, 3439, 4265, 6991, 7242, 9110, 9242, 10696, 11960]), ((4, 0), [697, 2952, 3782, 9672, 10684, 11924, 12303]), ((8, 14), [791, 3491, 3567, 4337, 6705, 7354, 10420, 11163, 11953]), ((15, 2), [807, 2053, 2284, 2344, 4959, 5045, 5562, 8771, 10089, 11435]), ((9, 10), [814, 4922, 7427, 7492, 7590, 7639, 7642, 7649, 7750]), ((9, 13), [880, 9129]), ((8, 35), [902, 1485, 1719, 4349, 5156]), ((9, 6), [916, 6927, 7008]), ((9, 8), [970, 6821, 6978, 7032]), ((8, 21), [973, 1421, 5054, 5071, 9853, 10777, 12176]), ((15, 1), [980, 2028, 4155, 4552, 6063, 6199, 7770, 7815, 8364, 8504]), ((14, 4), [1023, 1049, 2335, 2410, 2544, 2556, 3274, 3592, 4449, 6960, 10620, 10912, 11043, 11720, 11965, 12002]), ((1, 1), [1097, 1311, 2202, 2430, 2566, 3314, 3652, 3845, 4282, 5717, 7202, 7625, 7694, 8845, 9079, 9362, 10185, 10269, 10601, 10629]), ((10, 3), [1230, 11850]), ((8, 23), [1256, 2238, 5845, 7387, 9035, 9812, 12014]), ((8, 29), [1278, 2742, 6758, 7090]), ((8, 28), [1291, 5184, 6249, 11147, 12254]), ((8, 17), [1320, 1456, 2898, 3526, 3900, 4634, 4937, 5011, 6012, 7049, 7062, 7304, 10353, 11714]), ((9, 31), [1360, 1940, 4411, 10148, 11063]), ((8, 32), [1367, 2246]), ((14, 1), [1403, 2513, 5587, 5662, 5686, 5934, 6039, 6050, 6225, 7287, 7659, 7781, 8512, 9627, 9655, 10412, 10565, 11226, 11928]), ((14, 5), [1462, 2168, 3915, 4239, 6182, 8485, 8884, 12387]), ((9, 27), [1518, 11093]), ((9, 23), [1543, 5168, 5261, 8687, 9326]), ((9, 52), [1617, 2618, 11274]), ((8, 12), [1651, 1741, 3043, 3049, 3069, 3145, 7210, 12478]), ((5, 1), [1658, 2932, 4437, 8197, 9942, 10873, 11500, 12155]), ((9, 32), [1681, 2795, 5326, 10206, 11357]), ((14, 6), [1685, 3063, 4028, 11746]), ((9, 45), [1758, 5363]), ((9, 46), [1823, 3474, 5367, 5492]), ((9, 37), [1888, 2479, 4385, 8028, 11370]), ((8, 24), [1963, 2323, 4697, 12101]), ((8, 9), [2006, 2482, 3038, 4044, 7890]), ((8, 8), [2013, 2837, 4965, 7863, 8312]), ((15, 3), [2061, 2647, 4756, 4768, 5385, 6154, 8744, 10177, 10992, 11476, 11663]), ((9, 17), [2118, 9140]), ((8, 25), [2300, 2654, 6056, 9169, 9442, 12217]), ((9, 29), [2376, 2386, 5117]), ((3, 0), [2397, 2451, 4082, 4196, 4661, 4831, 8555]), ((1, 3), [2458, 2516, 2639, 2708, 3098, 3503, 3641, 6243, 7809, 11115, 11242, 12142]), ((9, 67), [2577, 3089, 4327]), ((9, 39), [2600, 3032, 5016, 7964, 8377, 9507]), ((9, 70), [2631, 8534, 10062]), ((8, 27), [2670, 3839, 4565, 5793, 6562, 9834]), ((9, 30), [2810, 5566]), ((0, 0), [2884, 4147, 6588]), ((9, 47), [3017, 8636, 10406]), ((15, 4), [3020, 5239, 5450, 11567]), ((9, 57), [3079, 5031]), ((9, 54), [3083, 8442]), ((14, 11), [3108, 9720]), ((9, 51), [3239, 11169]), ((9, 71), [3246, 3372]), ((9, 85), [3261, 3576]), ((9, 59), [3335, 3535]), ((9, 68), [3369, 9930]), ((8, 19), [3386, 9800, 10153, 11866, 11939]), ((15, 5), [3408, 11036]), ((8, 16), [3427, 3803, 7565, 9830, 10052, 10974, 11483, 11982]), ((15, 7), [3551, 12649]), ((2, 6), [3570, 4341, 4352, 8831, 10292, 12052, 12220]), ((2, 10), [3602, 3618]), ((15, 0), [3665, 3821, 4825, 5740, 6868, 9180, 9273, 9307, 10892]), ((8, 11), [3948, 7367, 8089, 8358, 8549, 8718, 11284]), ((12, 4), [3959, 4558, 10897]), ((2, 2), [4037, 4679, 4688, 5557, 7636, 7933, 8579, 8957, 9147, 12234, 12456]), ((2, 3), [4049, 4652, 8385, 8434, 9682, 10341, 10370, 11666]), ((8, 39), [4130, 9259]), ((9, 12), [4142, 8395, 8679]), ((14, 9), [4201, 5481, 11098]), ((0, 2), [4217, 8667, 8820, 9416]), ((8, 33), [4222, 4802, 4919, 6174]), ((12, 1), [4225, 4706, 5283, 9073, 11604]), ((12, 2), [4232, 5867]), ((9, 49), [4308, 8482]), ((8, 26), [4315, 4994, 5951, 7379, 9470, 9600]), ((9, 58), [4471, 8208, 12082]), ((2, 7), [4512, 8265, 12408]), ((9, 33), [4597, 9573]), ((9, 22), [4735, 9432, 9555, 10939, 11008, 11312]), ((9, 50), [4818, 4886, 10322]), ((8, 18), [4847, 6699, 7314, 9029, 9150, 10317, 10804]), ((9, 86), [4972, 11892]), ((9, 14), [5079, 5085, 10851]), ((2, 4), [5123, 10307]), ((9, 55), [5321, 11943]), ((2, 5), [5440, 8903, 10264, 10438, 10766, 12553]), ((1, 7), [5460, 12641]), ((1, 5), [5572, 12370, 12506]), ((14, 0), [5598, 5657, 5999]), ((12, 0), [5626, 5665, 5760, 5971, 6312, 9001, 11185]), ((2, 0), [5751, 5898, 6112]), ((8, 45), [5858, 9912]), ((13, 2), [6293, 8780, 9345, 9696, 11085, 11711, 12509]), ((8, 30), [6305, 9192, 12566]), ((9, 7), [6834, 6884]), ((13, 1), [7013, 7123, 7134, 7508, 7609, 7785, 7831, 7874, 7949, 8200, 8982, 9021, 10035, 10821, 11490, 11578, 11843, 12204]), ((9, 76), [8183, 9937]), ((12, 3), [8459, 11118, 12615]), ((9, 66), [8473, 12046, 12546]), ((9, 24), [8650, 11520]), ((13, 10), [8929, 9739]), ((9, 40), [9427, 11466]), ((9, 25), [9909, 11441]), ((0, 1), [10332, 10725, 11156]), ((9, 56), [10423, 11790]), ((9, 88), [10712, 11785]), ((9, 74), [10733, 11886]), ((12, 5), [11586, 12321]), ((9, 60), [12021, 12031]), ((9, 120), [12468, 12583])]\n"
     ]
    }
   ],
   "source": [
    "# Optimize Node Path, removing duplicate nodes\n",
    "\n",
    "ctf = {} # node that parent one true and one false leaf\n",
    "cft = {} # node that parent one false and one true leaf (the order matters)\n",
    "\n",
    "fts = dt.tree_.feature\n",
    "trh = np.floor(dt.tree_.threshold).astype(int)\n",
    "left  = dt.tree_.children_left\n",
    "right = dt.tree_.children_right\n",
    "val = dt.tree_.value\n",
    "\n",
    "# Find all node with two leaf as children\n",
    "for i in range(0, dt.tree_.node_count):\n",
    "    lf = bool(val[left[i]][0].argmax()) if left[left[i]] == right[left[i]] else None\n",
    "    rh = bool(val[right[i]][0].argmax()) if left[right[i]] == right[right[i]] else None\n",
    "    if lf == None or rh == None:\n",
    "        continue\n",
    "    # Parent of two leaf\n",
    "    elif lf and not rh:\n",
    "        k = (fts[i], trh[i])\n",
    "        if ctf.get(k) != None:\n",
    "            ctf[k].append(i)\n",
    "        else:\n",
    "            ctf[k] = [i]\n",
    "    elif not lf and rh:\n",
    "        k = (fts[i], trh[i])\n",
    "        if cft.get(k) != None:\n",
    "            cft[k].append(i)\n",
    "        else:\n",
    "            cft[k] = [i]\n",
    "\n",
    "\n",
    "ng = [x for x in ctf.items() if len(x[1]) > 1]\n",
    "ng.extend([x for x in cft.items() if len(x[1]) > 1])\n",
    "\n",
    "# Create a normal map between old node to the new node\n",
    "nc = 0\n",
    "normals = {}\n",
    "for _, xs in ng:\n",
    "    nv = xs[0]\n",
    "    nc += len(xs)-1\n",
    "    for i in xs[1:]:\n",
    "        normals[i] = nv\n",
    "\n",
    "print(nc) # number of deleted functions\n",
    "print(ng) # all function duplicate groups"
   ]
  },
  {
   "cell_type": "code",
   "execution_count": 52,
   "id": "1c06e01e-569e-436d-b2b2-ccdaf926023f",
   "metadata": {
    "tags": []
   },
   "outputs": [
    {
     "name": "stdout",
     "output_type": "stream",
     "text": [
      "3865\n"
     ]
    }
   ],
   "source": [
    "# Generate Flutter code\n",
    "fs = \"\"\n",
    "\n",
    "fts = dt.tree_.feature\n",
    "trh = np.floor(dt.tree_.threshold).astype(int)\n",
    "left  = dt.tree_.children_left\n",
    "right = dt.tree_.children_right\n",
    "val = dt.tree_.value\n",
    "\n",
    "nf = 0\n",
    "\n",
    "for i in range(0, dt.tree_.node_count):\n",
    "    if normals.get(i) != None:\n",
    "        continue\n",
    "    elif left[i] != right[i]:\n",
    "        lnv = normals[left[i]] if normals.get(left[i]) != None else left[i]\n",
    "        rnv = normals[right[i]] if normals.get(right[i]) != None else right[i]\n",
    "        lf = str(bool(val[lnv][0].argmax())).lower() if left[lnv] == right[lnv] else '_check{0}'.format(lnv)\n",
    "        rh = str(bool(val[rnv][0].argmax())).lower() if left[rnv] == right[rnv] else '_check{0}'.format(rnv)\n",
    "        nf += 1\n",
    "        if lf == 'true' and rh == 'false':\n",
    "            fs += '  bool get _check{0} => _vector[{1}] <= {2};\\n'.format(i, fts[i], trh[i])\n",
    "        elif lf == 'false' and rh == 'true':\n",
    "            # fs += '  bool get _check{0} => !(_vector[{1}] <= {2});\\n'.format(i, fts[i], trh[i])\n",
    "            fs += '  bool get _check{0} => _vector[{1}] > {2};\\n'.format(i, fts[i], trh[i])\n",
    "        else:\n",
    "            fs += '  bool get _check{0} => (_vector[{1}] <= {2}) ? {3} : {4};\\n'.format(i, fts[i], trh[i], lf, rh)\n",
    "\n",
    "print(nf) # number of functions generated\n",
    "            \n",
    "# Generate code\n",
    "with open(\"../lib/ai/url_decision_tree.dart\", \"w\") as f:\n",
    "    f.writelines([\n",
    "        \"import 'package:spam_chat/ai/transformer.dart';\\n\\n\",\n",
    "        '//=================================================//\\n\\n',\n",
    "        '/// A Decision Tree encoded as a class with each nodes being a function. Used for URL classification.\\n',\n",
    "        '///\\n',\n",
    "        '/// (Code generated by python script `model/url.ipynb`)\\n',\n",
    "        'class UrlDecisionTree {\\n',\n",
    "            '  UrlDecisionTree(this.transformer);\\n\\n',\n",
    "            '  final Transformer<int, String> transformer;\\n\\n',\n",
    "            '  static const featureCount = {0};\\n\\n'.format(len(cs)),\n",
    "            '  List<int> _vector = [];\\n\\n'\n",
    "            '  //----------------------------//\\n\\n',\n",
    "            '  bool predict(String url) {\\n',\n",
    "                '    _vector = transformer.transform(url);\\n',\n",
    "                '    assert(_vector.length == featureCount);\\n',\n",
    "                '    return _check0;\\n',\n",
    "            '  }\\n\\n',\n",
    "            '  //----------------------------//\\n\\n',\n",
    "            fs, # nodes\n",
    "        '}',\n",
    "    ])"
   ]
  },
  {
   "cell_type": "code",
   "execution_count": null,
   "id": "75e0c73c-2463-48d2-8ae4-dbe950adc7e1",
   "metadata": {},
   "outputs": [],
   "source": []
  }
 ],
 "metadata": {
  "kernelspec": {
   "display_name": "Python 3 (ipykernel)",
   "language": "python",
   "name": "python3"
  },
  "language_info": {
   "codemirror_mode": {
    "name": "ipython",
    "version": 3
   },
   "file_extension": ".py",
   "mimetype": "text/x-python",
   "name": "python",
   "nbconvert_exporter": "python",
   "pygments_lexer": "ipython3",
   "version": "3.9.7"
  }
 },
 "nbformat": 4,
 "nbformat_minor": 5
}
