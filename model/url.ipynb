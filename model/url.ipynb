{
 "cells": [
  {
   "cell_type": "markdown",
   "id": "41489c71-607a-4412-98b5-364550d3978e",
   "metadata": {
    "tags": []
   },
   "source": [
    "# URL Classification\n",
    "\n",
    "+ https://machinelearningmastery.com/naive-bayes-classifier-scratch-python/\n",
    "+ https://towardsdatascience.com/naive-bayes-classifier-from-scratch-with-python-942708211470\n",
    "+ https://scikit-learn.org/stable/modules/naive_bayes.html\n",
    "+ https://github.com/japborst/dart_stemmer/blob/master/lib/PorterStemmer.dart\n",
    "+ https://tartarus.org/martin/PorterStemmer/\n",
    "+ https://www.kaggle.com/datasets/taruntiwarihp/phishing-site-urls\n",
    "+ https://www.kaggle.com/datasets/akashkr/phishing-website-dataset\n",
    "+ https://www.kaggle.com/datasets/sandunabeysooriya/phishing-detection-dataset\n",
    "+ https://www.youtube.com/watch?v=O2L2Uv9pdDA\n",
    "+ https://www.kaggle.com/code/tylersullivan/classifying-phishing-urls-three-models\n",
    "+ https://towardsdatascience.com/how-i-was-using-naive-bayes-incorrectly-till-now-part-1-4ed2a7e2212b\n",
    "+ https://towardsdatascience.com/why-how-to-use-the-naive-bayes-algorithms-in-a-regulated-industry-with-sklearn-python-code-dbd8304ab2cf\n",
    "+ https://towardsdatascience.com/all-you-need-to-know-about-bag-of-words-and-word2vec-text-feature-extraction-e386d9ed84aa\n",
    "+ https://towardsdatascience.com/text-normalization-7ecc8e084e31\n",
    "+ https://medium.com/analytics-vidhya/how-to-build-a-lemmatizer-7aeff7a1208c"
   ]
  },
  {
   "cell_type": "code",
   "execution_count": 1,
   "id": "e48a72be-2083-4b03-8514-eae69ca3bba4",
   "metadata": {},
   "outputs": [],
   "source": [
    "import numpy as np\n",
    "import pandas as pd\n",
    "\n",
    "from sklearn import metrics\n",
    "from sklearn.model_selection import train_test_split\n",
    "from sklearn.pipeline import Pipeline\n",
    "# from sklearn.preprocessing import StandardScaler, MinMaxScaler\n",
    "# from sklearn.feature_extraction.text import CountVectorizer\n",
    "from sklearn.tree import DecisionTreeClassifier, export_graphviz\n",
    "from sklearn.linear_model import SGDClassifier\n",
    "from sklearn.naive_bayes import MultinomialNB, ComplementNB\n",
    "\n",
    "import matplotlib.pyplot as plt\n",
    "%matplotlib inline"
   ]
  },
  {
   "cell_type": "markdown",
   "id": "90f8ba19-c367-4c4f-8023-9e8b127aeed6",
   "metadata": {
    "tags": []
   },
   "source": [
    "## Data Import and Cleaning\n",
    "\n",
    "__Features of interest:__\n",
    "+ Length\n",
    "+ Number of dots\n",
    "+ Number of sub-paths `/`\n",
    "+ Usage of shortening services\n",
    "+ Usage of symbols, such as `@`, `?`, `//`\n",
    "+ Using `http` or `https`\n",
    "+ Domain (`.gov`, `.com`, etc.)\n",
    "+ Is IP address"
   ]
  },
  {
   "cell_type": "code",
   "execution_count": 3,
   "id": "f6694680-03c4-4c68-87f8-6fcba4689d7e",
   "metadata": {},
   "outputs": [
    {
     "name": "stdout",
     "output_type": "stream",
     "text": [
      "                                                      URL  Label\n",
      "0       nobell.it/70ffb52d079109dca5664cce6f317373782/...      1\n",
      "1       www.dghjdgf.com/paypal.co.uk/cycgi-bin/webscrc...      1\n",
      "2       serviciosbys.com/paypal.cgi.bin.get-into.herf....      1\n",
      "3       mail.printakid.com/www.online.americanexpress....      1\n",
      "4       thewhiskeydregs.com/wp-content/themes/widescre...      1\n",
      "...                                                   ...    ...\n",
      "549243                                    23.227.196.215/      1\n",
      "549244                                 apple-checker.org/      1\n",
      "549245                                  apple-iclods.org/      1\n",
      "549246                                 apple-uptoday.org/      1\n",
      "549247                                  apple-search.info      1\n",
      "\n",
      "[549248 rows x 2 columns]\n"
     ]
    }
   ],
   "source": [
    "data = pd.read_csv(\"./data/phishing_site_urls.csv\", encoding=\"utf-8\")\n",
    "data[\"Label\"].replace(to_replace=\"bad\", value=1, inplace=True)\n",
    "data[\"Label\"].replace(to_replace=\"good\", value=0, inplace=True)\n",
    "\n",
    "print(data)\n",
    "# print(data.info())"
   ]
  },
  {
   "cell_type": "code",
   "execution_count": 4,
   "id": "dc5929bf-8599-4b45-aa0c-d429d87db5f8",
   "metadata": {},
   "outputs": [
    {
     "data": {
      "image/png": "[encoded data removed]",
      "text/plain": [
       "<Figure size 640x480 with 1 Axes>"
      ]
     },
     "metadata": {},
     "output_type": "display_data"
    }
   ],
   "source": [
    "sizes = [data[data[\"Label\"] == 0].shape[0]\n",
    "        ,data[data[\"Label\"] == 1].shape[0]\n",
    "        ]\n",
    "\n",
    "fig1, ax1 = plt.subplots()\n",
    "ax1.pie(sizes, labels=[\"good\", \"bad\"], autopct='%1.1f%%')\n",
    "plt.show()"
   ]
  },
  {
   "cell_type": "code",
   "execution_count": 24,
   "id": "89c52b8e-7271-4e9c-9e00-2355c127a30b",
   "metadata": {},
   "outputs": [
    {
     "name": "stdout",
     "output_type": "stream",
     "text": [
      "        %  .  /  //  :  ?  @  ip  lenA  lenP  {{jnk}}  {{lword}}  {{num}}  \\\n",
      "476777  0  1  1   0  0  1  0   0    11    19        1          0        0   \n",
      "120335  0  1  1   0  0  0  0   0    12     3        0          0        0   \n",
      "30552   0  3  5   0  0  0  0   0    30    48        0          1        0   \n",
      "457028  0  1  2   0  0  0  0   0    14    12        0          0        0   \n",
      "141719  0  3  0   0  0  0  0   0    30     0        1          1        0   \n",
      "149415  0  3  4   0  0  0  0   0    13    15        0          0        0   \n",
      "318681  0  2  2   0  0  1  0   0     8    28        0          0        0   \n",
      "145283  0  2  3   0  0  0  0   0    19    67        1          0        0   \n",
      "456669  0  2  3   0  0  0  0   0     9    25        1          0        0   \n",
      "135429  0  1  4   0  0  0  0   0    15    33        0          0        0   \n",
      "\n",
      "        {{other}}  {{word}}  \n",
      "476777          0         1  \n",
      "120335          0         2  \n",
      "30552           0         2  \n",
      "457028          0         2  \n",
      "141719          0         2  \n",
      "149415          0         3  \n",
      "318681          0         2  \n",
      "145283          0         2  \n",
      "456669          0         1  \n",
      "135429          0         2  \n"
     ]
    }
   ],
   "source": [
    "import re\n",
    "from collections import Counter\n",
    "\n",
    "ip_re = re.compile(r\"^\\d{1,3}\\.\\d{1,3}\\.\\d{1,3}\\.\\d{1,3}(:\\d{1,5})?$\")\n",
    "url_re = re.compile(r\"(https?://)?([^/]+)(/.*)?\")\n",
    "hexa_re = re.compile(r\"^[0-9a-f]+$\")\n",
    "split_re = re.compile(r\"[^\\w\\d]\")\n",
    "\n",
    "#----------------------------#\n",
    "\n",
    "vowels = {'a','e','i','o','u','y'}\n",
    "\n",
    "# (assumes lowercase and w.isalpha() is True)\n",
    "def readable(w: str) -> bool:\n",
    "    tl, nb = 0, 0\n",
    "    i, cs  = 0, 1\n",
    "    while i < len(w):\n",
    "        cs = 1\n",
    "        v  = w[i] in vowels\n",
    "        i += 1\n",
    "        while i < len(w) and (w[i] in vowels) == v:\n",
    "            cs += 1\n",
    "            i  += 1\n",
    "        if cs > 2:\n",
    "           nb += 1\n",
    "        tl += 1\n",
    "    return (nb / tl) < 0.2\n",
    "\n",
    "#----------------------------#\n",
    "    \n",
    "# Remove parsing artifacts (won't be needed for the real thing)\n",
    "def cleanURL(url: str) -> str:\n",
    "    s, e = 0, -1\n",
    "    qs = [\"'\", '\"']\n",
    "    if url[0] in qs:\n",
    "        s = 1\n",
    "    if url[-1] in qs:\n",
    "        e = -2\n",
    "    return url[s:e]\n",
    "\n",
    "#----------------------------#\n",
    "\n",
    "# Split the URL into its smaller parts\n",
    "def splitURL(url: str) -> tuple:\n",
    "    match = url_re.match(url)\n",
    "    return match.group(2,3) if match != None else None\n",
    "\n",
    "#----------------------------#\n",
    "\n",
    "def normalize(w: str) -> str:\n",
    "    if w.isdigit():\n",
    "        return '{{num}}'\n",
    "    # if not w.isalpha() and hexa_re.match(w) != None:\n",
    "    #     return '{{id}}'\n",
    "    if not w.isalpha():\n",
    "        return '{{other}}'\n",
    "    if len(w) > 4 and not readable(w):\n",
    "        return '{{jnk}}'\n",
    "    if len(w) > 15:\n",
    "        return '{{lword}}'\n",
    "    return '{{word}}'\n",
    "\n",
    "#----------------------------#\n",
    "\n",
    "# Extract properties and features from URL\n",
    "def processURL(url: str) -> list:\n",
    "    curl = cleanURL(url)\n",
    "    (a, p) = splitURL(curl)\n",
    "    ts = Counter([normalize(t.lower()) for t in split_re.split(a)])\n",
    "    return [ p.count('%') if p != None else 0\n",
    "           , curl.count('.')\n",
    "           , p.count('/') if p != None else 0\n",
    "           , p.count('//') if p != None else 0\n",
    "           , curl.count(':')\n",
    "           , p.count('?') if p != None else 0\n",
    "           , p.count('@') if p != None else 0\n",
    "           , int(ip_re.search(a) != None)\n",
    "           , len(a)\n",
    "           , len(p) if p != None else 0\n",
    "           # , len(split_re.split(p)) if p != None else 0\n",
    "           # , ts['{{id}}']\n",
    "           , ts['{{jnk}}']\n",
    "           , ts['{{lword}}']\n",
    "           , ts['{{num}}']\n",
    "           , ts['{{other}}']\n",
    "           , ts['{{word}}']\n",
    "           ]\n",
    "\n",
    "#==========================================#\n",
    "\n",
    "# cs = ['%','.','/','//',':','?','@','ip','len','sub','{{id}}','{{jnk}}','{{lword}}','{{num}}','{{other}}','{{word}}']\n",
    "# cs = ['%','.','/','//',':','?','@','ip','lenA','lenP','sub','{{jnk}}','{{lword}}','{{num}}','{{other}}','{{word}}']\n",
    "cs = ['%','.','/','//',':','?','@','ip','lenA','lenP','{{jnk}}','{{lword}}','{{num}}','{{other}}','{{word}}']\n",
    "vs = pd.DataFrame(data[\"URL\"].map(processURL).to_list(), columns=cs)\n",
    "        \n",
    "print(vs.sample(10))"
   ]
  },
  {
   "cell_type": "markdown",
   "id": "04d06656-1d07-4928-a04c-fc6fba8c5586",
   "metadata": {},
   "source": [
    "## Training and Testing\n",
    "\n"
   ]
  },
  {
   "cell_type": "code",
   "execution_count": 25,
   "id": "f9f92397-2a60-48c0-a277-7ec85646cc27",
   "metadata": {},
   "outputs": [],
   "source": [
    "trainX, testX, trainY, testY = train_test_split(vs, data.Label, test_size=0.3, random_state=0)"
   ]
  },
  {
   "cell_type": "code",
   "execution_count": 26,
   "id": "20a51a4f-fb45-4887-a56e-a62bd9d3aefe",
   "metadata": {},
   "outputs": [
    {
     "name": "stdout",
     "output_type": "stream",
     "text": [
      "              precision    recall  f1-score   support\n",
      "\n",
      "        good       0.75      0.90      0.82    118073\n",
      "         bad       0.50      0.26      0.35     46702\n",
      "\n",
      "    accuracy                           0.72    164775\n",
      "   macro avg       0.63      0.58      0.58    164775\n",
      "weighted avg       0.68      0.72      0.69    164775\n",
      "\n"
     ]
    }
   ],
   "source": [
    "mnb = MultinomialNB()\n",
    "mnb.fit(trainX, trainY)\n",
    "\n",
    "pred = mnb.predict(testX)\n",
    "print(metrics.classification_report(testY, pred, target_names=['good','bad']))"
   ]
  },
  {
   "cell_type": "code",
   "execution_count": 27,
   "id": "f76b5fbc-fda7-4993-bba4-ae022b9a35ad",
   "metadata": {},
   "outputs": [
    {
     "name": "stdout",
     "output_type": "stream",
     "text": [
      "              precision    recall  f1-score   support\n",
      "\n",
      "        good       0.75      0.75      0.75    118073\n",
      "         bad       0.37      0.37      0.37     46702\n",
      "\n",
      "    accuracy                           0.64    164775\n",
      "   macro avg       0.56      0.56      0.56    164775\n",
      "weighted avg       0.64      0.64      0.64    164775\n",
      "\n"
     ]
    }
   ],
   "source": [
    "cnb = ComplementNB()\n",
    "cnb.fit(trainX, trainY)\n",
    "\n",
    "pred = cnb.predict(testX)\n",
    "print(metrics.classification_report(testY, pred, target_names=['good','bad']))"
   ]
  },
  {
   "cell_type": "code",
   "execution_count": 28,
   "id": "9c26d027-69a0-4640-a5bc-a74ae1001731",
   "metadata": {},
   "outputs": [
    {
     "name": "stdout",
     "output_type": "stream",
     "text": [
      "              precision    recall  f1-score   support\n",
      "\n",
      "        good       0.85      0.95      0.90    118073\n",
      "         bad       0.82      0.58      0.68     46702\n",
      "\n",
      "    accuracy                           0.84    164775\n",
      "   macro avg       0.84      0.77      0.79    164775\n",
      "weighted avg       0.84      0.84      0.84    164775\n",
      "\n"
     ]
    }
   ],
   "source": [
    "dt = DecisionTreeClassifier(random_state=0, max_depth=len(cs))\n",
    "dt.fit(trainX, trainY)\n",
    "\n",
    "pred = dt.predict(testX)\n",
    "print(metrics.classification_report(testY, pred, target_names=['good','bad']))"
   ]
  },
  {
   "cell_type": "code",
   "execution_count": 35,
   "id": "dda133e3-62b6-4f2e-b9fe-ef5f2d7f7a4c",
   "metadata": {},
   "outputs": [
    {
     "name": "stdout",
     "output_type": "stream",
     "text": [
      "              precision    recall  f1-score   support\n",
      "\n",
      "        good       0.75      0.99      0.85    118073\n",
      "         bad       0.80      0.15      0.25     46702\n",
      "\n",
      "    accuracy                           0.75    164775\n",
      "   macro avg       0.77      0.57      0.55    164775\n",
      "weighted avg       0.76      0.75      0.68    164775\n",
      "\n"
     ]
    }
   ],
   "source": [
    "svm = SGDClassifier(loss='hinge', penalty='l2', alpha=1e-3, random_state=0, max_iter=5, tol=None)\n",
    "svm.fit(trainX, trainY)\n",
    "\n",
    "pred = svm.predict(testX)\n",
    "print(metrics.classification_report(testY, pred, target_names=['good','bad']))"
   ]
  },
  {
   "cell_type": "markdown",
   "id": "d699cfea-2cc3-4ff3-8955-1fe8fffc93d3",
   "metadata": {
    "tags": []
   },
   "source": [
    "---\n",
    "## Post-Processing\n",
    "\n",
    "+ Code generation\n",
    "+ Other statistics"
   ]
  },
  {
   "cell_type": "code",
   "execution_count": 40,
   "id": "0cd04e49-9b49-4e2c-ae31-c46f147c4fa0",
   "metadata": {},
   "outputs": [
    {
     "name": "stdout",
     "output_type": "stream",
     "text": [
      "7747\n"
     ]
    }
   ],
   "source": [
    "# Remove redundant branches\n",
    "# https://stackoverflow.com/a/68660641\n",
    "\n",
    "from sklearn.tree._tree import TREE_LEAF, TREE_UNDEFINED\n",
    "\n",
    "def is_leaf(inner_tree, index):\n",
    "    # Check whether node is leaf node\n",
    "    return (inner_tree.children_left[index] == TREE_LEAF and \n",
    "            inner_tree.children_right[index] == TREE_LEAF)\n",
    "\n",
    "def prune_index(inner_tree, decisions, index=0):\n",
    "    # Start pruning from the bottom - if we start from the top, we might miss\n",
    "    # nodes that become leaves during pruning.\n",
    "    # Do not use this directly - use prune_duplicate_leaves instead.\n",
    "    if not is_leaf(inner_tree, inner_tree.children_left[index]):\n",
    "        prune_index(inner_tree, decisions, inner_tree.children_left[index])\n",
    "    if not is_leaf(inner_tree, inner_tree.children_right[index]):\n",
    "        prune_index(inner_tree, decisions, inner_tree.children_right[index])\n",
    "\n",
    "    # Prune children if both children are leaves now and make the same decision:     \n",
    "    if (is_leaf(inner_tree, inner_tree.children_left[index]) and\n",
    "        is_leaf(inner_tree, inner_tree.children_right[index]) and\n",
    "        (decisions[index] == decisions[inner_tree.children_left[index]]) and \n",
    "        (decisions[index] == decisions[inner_tree.children_right[index]])):\n",
    "        # turn node into a leaf by \"unlinking\" its children\n",
    "        inner_tree.children_left[index] = TREE_LEAF\n",
    "        inner_tree.children_right[index] = TREE_LEAF\n",
    "        inner_tree.feature[index] = TREE_UNDEFINED\n",
    "        ##print(\"Pruned {}\".format(index))\n",
    "\n",
    "def prune_duplicate_leaves(mdl):\n",
    "    # Remove leaves if both \n",
    "    decisions = mdl.tree_.value.argmax(axis=2).flatten().tolist() # Decision for each node\n",
    "    prune_index(mdl.tree_, decisions)\n",
    "    \n",
    "prune_duplicate_leaves(dt)\n",
    "\n",
    "print(dt.tree_.node_count)"
   ]
  },
  {
   "cell_type": "code",
   "execution_count": 131,
   "id": "7e848677-c178-4022-97af-08f0546e1729",
   "metadata": {
    "scrolled": true,
    "tags": []
   },
   "outputs": [],
   "source": [
    "# r = export_text(dt, feature_names=cs)\n",
    "# print(r)\n",
    "\n",
    "# import graphviz\n",
    "\n",
    "# dot_data = export_graphviz(dt, out_file=None, \n",
    "#                      feature_names=cs,  \n",
    "#                      class_names=['good','bad'],  \n",
    "#                      filled=True, rounded=True,  \n",
    "#                      special_characters=True)  \n",
    "# graph = graphviz.Source(dot_data)\n",
    "# graph.render('url')"
   ]
  },
  {
   "cell_type": "code",
   "execution_count": 34,
   "id": "1c06e01e-569e-436d-b2b2-ccdaf926023f",
   "metadata": {
    "tags": []
   },
   "outputs": [],
   "source": [
    "# Generate Flutter code\n",
    "fs = \"\"\n",
    "rs = []\n",
    "\n",
    "fts = dt.tree_.feature\n",
    "trh = dt.tree_.threshold\n",
    "left  = dt.tree_.children_left\n",
    "right = dt.tree_.children_right\n",
    "val = dt.tree_.value\n",
    "\n",
    "for i in range(0, dt.tree_.node_count):\n",
    "    if left[i] != right[i]:\n",
    "        lf = str(bool(val[left[i]][0].argmax())).lower() if left[left[i]] == right[left[i]] else '_check{0}'.format(left[i])\n",
    "        rh = str(bool(val[right[i]][0].argmax())).lower() if left[right[i]] == right[right[i]] else '_check{0}'.format(right[i])\n",
    "        if lf == rh:\n",
    "            fs += '  final _check{0} = {1};\\n'.format(i, lf)\n",
    "        elif lf == 'true' and rh == 'false':\n",
    "            fs += '  bool get _check{0} => _vector[{1}] <= {2};\\n'.format(i, fts[i], trh[i])\n",
    "        elif lf == 'false' and rh == 'true':\n",
    "            # fs += '  bool get _check{0} => !(_vector[{1}] <= {2});\\n'.format(i, fts[i], trh[i])\n",
    "            fs += '  bool get _check{0} => _vector[{1}] > {2};\\n'.format(i, fts[i], trh[i])\n",
    "        else:\n",
    "            fs += '  bool get _check{0} => (_vector[{1}] <= {2}) ? {3} : {4};\\n'.format(i, fts[i], trh[i], lf, rh)\n",
    "\n",
    "# Generate code\n",
    "with open(\"../lib/utils/url_decision_tree.dart\", \"w\") as f:\n",
    "    f.writelines([\n",
    "        \"import 'package:spam_chat/models/transformer.dart';\\n\\n\",\n",
    "        '//=================================================//\\n\\n',\n",
    "        '/// A Decision Tree encoded as a class with each nodes being a function. Used for URL classification.\\n',\n",
    "        '///\\n',\n",
    "        '/// (Code generated by python script `model/url.ipynb`)\\n',\n",
    "        'class UrlDecisionTree {\\n',\n",
    "            '  UrlDecisionTree(this.transformer);\\n\\n',\n",
    "            # '  final int featureLength;\\n',\n",
    "            '  final Transformer<double, String> transformer;\\n\\n',\n",
    "            '  static const featureCount = {0};\\n\\n'.format(len(cs)),\n",
    "            '  List<double> _vector = [];\\n\\n'\n",
    "            '  //----------------------------//\\n\\n',\n",
    "            '  bool predict(String url) {\\n',\n",
    "                '    _vector = transformer.transform(url);\\n',\n",
    "                '    assert(_vector.length == featureCount);\\n',\n",
    "                '    return _check0;\\n',\n",
    "            '  }\\n\\n',\n",
    "            '  //----------------------------//\\n\\n',\n",
    "            fs,\n",
    "        '}',\n",
    "    ])"
   ]
  },
  {
   "cell_type": "code",
   "execution_count": 58,
   "id": "74f32681-d29d-4802-8dfb-fbe4b22b56fa",
   "metadata": {},
   "outputs": [],
   "source": [
    "values = mnb.feature_log_prob_\n",
    "cnt = \"\"\n",
    "\n",
    "# Generate Code for the Flutter App\n",
    "for i, n in enumerate(cs):\n",
    "    cnt += \"  Vec2({0}, {1}),\\n\".format(values[0][i], values[1][i])\n",
    "    \n",
    "with open(\"../lib/utils/url_vocabulary.dart\", \"w\") as f:\n",
    "    f.writelines([\n",
    "        \"part of 'url_filter.dart';\\n\\n\",\n",
    "        '//=================================================//\\n\\n',\n",
    "        '/// Contains the log likelihoods used to make a multinomial naive bayes prediction.\\n',\n",
    "        '///\\n',\n",
    "        '/// (Code generated by python script `model/url.ipynb`)\\n',\n",
    "        \"const logLikelihoods = [\\n\",\n",
    "            cnt,\n",
    "        \"];\",\n",
    "    ])"
   ]
  },
  {
   "cell_type": "code",
   "execution_count": null,
   "id": "b59c69b3-522c-4869-9c79-98383aa7a2e0",
   "metadata": {},
   "outputs": [],
   "source": []
  }
 ],
 "metadata": {
  "kernelspec": {
   "display_name": "Python 3 (ipykernel)",
   "language": "python",
   "name": "python3"
  },
  "language_info": {
   "codemirror_mode": {
    "name": "ipython",
    "version": 3
   },
   "file_extension": ".py",
   "mimetype": "text/x-python",
   "name": "python",
   "nbconvert_exporter": "python",
   "pygments_lexer": "ipython3",
   "version": "3.9.7"
  }
 },
 "nbformat": 4,
 "nbformat_minor": 5
}
